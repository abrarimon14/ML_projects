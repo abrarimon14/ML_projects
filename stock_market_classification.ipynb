{
 "cells": [
  {
   "cell_type": "code",
   "execution_count": 1,
   "id": "06fe24e4-0c5d-4926-89f9-3b7fb1f23d3e",
   "metadata": {},
   "outputs": [],
   "source": [
    "# Load packages we will need\n",
    "import pandas as pd\n",
    "import numpy as np\n",
    "import matplotlib as mpl\n",
    "import matplotlib.pyplot as plt\n",
    "import seaborn as sns\n",
    "\n",
    "import sklearn.linear_model as skl_lm\n",
    "from sklearn.discriminant_analysis import LinearDiscriminantAnalysis\n",
    "from sklearn.discriminant_analysis import QuadraticDiscriminantAnalysis\n",
    "from sklearn.metrics import confusion_matrix, classification_report, accuracy_score\n",
    "from sklearn.metrics import roc_curve, roc_auc_score\n",
    "from sklearn import preprocessing\n",
    "\n",
    "import statsmodels.api as sm\n",
    "import statsmodels.formula.api as smf\n",
    "\n",
    "%matplotlib inline\n",
    "plt.style.use('seaborn-white')"
   ]
  },
  {
   "cell_type": "code",
   "execution_count": 2,
   "id": "0897be28-8bed-4d28-99f4-b78bbaf5c3fc",
   "metadata": {},
   "outputs": [],
   "source": [
    "df = pd.read_csv(r\"C:\\Users\\shipa\\OneDrive\\Desktop\\STAT 724\\data\\Weekly.csv\")"
   ]
  },
  {
   "cell_type": "code",
   "execution_count": 3,
   "id": "098a5716-9388-44bd-a01d-fa66bf9ab27f",
   "metadata": {},
   "outputs": [],
   "source": [
    "df['Direction2'] = df.Direction.map({'Up':1,'Down':0})"
   ]
  },
  {
   "cell_type": "code",
   "execution_count": 4,
   "id": "c2d105d8-4051-4660-a333-eeedca4ef30e",
   "metadata": {},
   "outputs": [
    {
     "data": {
      "text/html": [
       "<div>\n",
       "<style scoped>\n",
       "    .dataframe tbody tr th:only-of-type {\n",
       "        vertical-align: middle;\n",
       "    }\n",
       "\n",
       "    .dataframe tbody tr th {\n",
       "        vertical-align: top;\n",
       "    }\n",
       "\n",
       "    .dataframe thead th {\n",
       "        text-align: right;\n",
       "    }\n",
       "</style>\n",
       "<table border=\"1\" class=\"dataframe\">\n",
       "  <thead>\n",
       "    <tr style=\"text-align: right;\">\n",
       "      <th></th>\n",
       "      <th>Unnamed: 0</th>\n",
       "      <th>Year</th>\n",
       "      <th>Lag1</th>\n",
       "      <th>Lag2</th>\n",
       "      <th>Lag3</th>\n",
       "      <th>Lag4</th>\n",
       "      <th>Lag5</th>\n",
       "      <th>Volume</th>\n",
       "      <th>Today</th>\n",
       "      <th>Direction</th>\n",
       "      <th>Direction2</th>\n",
       "    </tr>\n",
       "  </thead>\n",
       "  <tbody>\n",
       "    <tr>\n",
       "      <th>0</th>\n",
       "      <td>1</td>\n",
       "      <td>1990</td>\n",
       "      <td>0.816</td>\n",
       "      <td>1.572</td>\n",
       "      <td>-3.936</td>\n",
       "      <td>-0.229</td>\n",
       "      <td>-3.484</td>\n",
       "      <td>0.154976</td>\n",
       "      <td>-0.270</td>\n",
       "      <td>Down</td>\n",
       "      <td>0</td>\n",
       "    </tr>\n",
       "    <tr>\n",
       "      <th>1</th>\n",
       "      <td>2</td>\n",
       "      <td>1990</td>\n",
       "      <td>-0.270</td>\n",
       "      <td>0.816</td>\n",
       "      <td>1.572</td>\n",
       "      <td>-3.936</td>\n",
       "      <td>-0.229</td>\n",
       "      <td>0.148574</td>\n",
       "      <td>-2.576</td>\n",
       "      <td>Down</td>\n",
       "      <td>0</td>\n",
       "    </tr>\n",
       "    <tr>\n",
       "      <th>2</th>\n",
       "      <td>3</td>\n",
       "      <td>1990</td>\n",
       "      <td>-2.576</td>\n",
       "      <td>-0.270</td>\n",
       "      <td>0.816</td>\n",
       "      <td>1.572</td>\n",
       "      <td>-3.936</td>\n",
       "      <td>0.159837</td>\n",
       "      <td>3.514</td>\n",
       "      <td>Up</td>\n",
       "      <td>1</td>\n",
       "    </tr>\n",
       "    <tr>\n",
       "      <th>3</th>\n",
       "      <td>4</td>\n",
       "      <td>1990</td>\n",
       "      <td>3.514</td>\n",
       "      <td>-2.576</td>\n",
       "      <td>-0.270</td>\n",
       "      <td>0.816</td>\n",
       "      <td>1.572</td>\n",
       "      <td>0.161630</td>\n",
       "      <td>0.712</td>\n",
       "      <td>Up</td>\n",
       "      <td>1</td>\n",
       "    </tr>\n",
       "    <tr>\n",
       "      <th>4</th>\n",
       "      <td>5</td>\n",
       "      <td>1990</td>\n",
       "      <td>0.712</td>\n",
       "      <td>3.514</td>\n",
       "      <td>-2.576</td>\n",
       "      <td>-0.270</td>\n",
       "      <td>0.816</td>\n",
       "      <td>0.153728</td>\n",
       "      <td>1.178</td>\n",
       "      <td>Up</td>\n",
       "      <td>1</td>\n",
       "    </tr>\n",
       "  </tbody>\n",
       "</table>\n",
       "</div>"
      ],
      "text/plain": [
       "   Unnamed: 0  Year   Lag1   Lag2   Lag3   Lag4   Lag5    Volume  Today  \\\n",
       "0           1  1990  0.816  1.572 -3.936 -0.229 -3.484  0.154976 -0.270   \n",
       "1           2  1990 -0.270  0.816  1.572 -3.936 -0.229  0.148574 -2.576   \n",
       "2           3  1990 -2.576 -0.270  0.816  1.572 -3.936  0.159837  3.514   \n",
       "3           4  1990  3.514 -2.576 -0.270  0.816  1.572  0.161630  0.712   \n",
       "4           5  1990  0.712  3.514 -2.576 -0.270  0.816  0.153728  1.178   \n",
       "\n",
       "  Direction  Direction2  \n",
       "0      Down           0  \n",
       "1      Down           0  \n",
       "2        Up           1  \n",
       "3        Up           1  \n",
       "4        Up           1  "
      ]
     },
     "execution_count": 4,
     "metadata": {},
     "output_type": "execute_result"
    }
   ],
   "source": [
    "df.head()"
   ]
  },
  {
   "cell_type": "markdown",
   "id": "36c9d5ba-3b07-4b52-ae80-4ccf162e4d42",
   "metadata": {},
   "source": [
    "<b>(a)</b>"
   ]
  },
  {
   "cell_type": "code",
   "execution_count": 4,
   "id": "217b06d9-d30c-4f95-86e5-a0630f558979",
   "metadata": {},
   "outputs": [
    {
     "data": {
      "text/plain": [
       "1990    47\n",
       "1991    52\n",
       "1992    52\n",
       "1993    52\n",
       "1994    52\n",
       "1995    52\n",
       "1996    53\n",
       "1997    52\n",
       "1998    52\n",
       "1999    52\n",
       "2000    52\n",
       "2001    52\n",
       "2002    52\n",
       "2003    52\n",
       "2004    52\n",
       "2005    52\n",
       "2006    52\n",
       "2007    53\n",
       "2008    52\n",
       "2009    52\n",
       "2010    52\n",
       "Name: Year, dtype: int64"
      ]
     },
     "execution_count": 4,
     "metadata": {},
     "output_type": "execute_result"
    }
   ],
   "source": [
    "df.Year.value_counts().sort_index()"
   ]
  },
  {
   "cell_type": "code",
   "execution_count": 6,
   "id": "a2757942-0c26-42a5-965c-95aacad4e18c",
   "metadata": {},
   "outputs": [
    {
     "data": {
      "text/plain": [
       "Lag1         -0.050004\n",
       "Lag2          0.072696\n",
       "Lag3         -0.022913\n",
       "Lag4         -0.020549\n",
       "Lag5         -0.018168\n",
       "Volume       -0.017995\n",
       "Direction2    1.000000\n",
       "Name: Direction2, dtype: float64"
      ]
     },
     "execution_count": 6,
     "metadata": {},
     "output_type": "execute_result"
    }
   ],
   "source": [
    "df[[\"Lag1\", \"Lag2\", \"Lag3\", \"Lag4\", \"Lag5\", \"Volume\", \"Direction2\"]].corr()[\"Direction2\"]"
   ]
  },
  {
   "cell_type": "markdown",
   "id": "af0b19db-836a-499d-992e-061efcaa185a",
   "metadata": {},
   "source": [
    "The direction of the stock seems to be negatively correlated with most of the lag features."
   ]
  },
  {
   "cell_type": "code",
   "execution_count": 5,
   "id": "4098c7b1-8dbe-49f9-8787-a44bf06888b9",
   "metadata": {},
   "outputs": [],
   "source": [
    "mpl.rcParams['figure.figsize'] = [10, 7] #Changing some settings for the plot"
   ]
  },
  {
   "cell_type": "code",
   "execution_count": 6,
   "id": "025b9ee7-ebf1-47ef-a66d-0f1e4cd8d109",
   "metadata": {},
   "outputs": [
    {
     "data": {
      "text/plain": [
       "<matplotlib.legend.Legend at 0x195cd77d190>"
      ]
     },
     "execution_count": 6,
     "metadata": {},
     "output_type": "execute_result"
    },
    {
     "data": {
      "image/png": "[encoded data removed]",
      "text/plain": [
       "<Figure size 720x504 with 1 Axes>"
      ]
     },
     "metadata": {},
     "output_type": "display_data"
    }
   ],
   "source": [
    "groups = df.sample(n=500).groupby('Direction')\n",
    "for name, group in groups:\n",
    "    plt.plot(group[\"Lag1\"], group[\"Lag2\"], marker='o', linestyle='', markersize=2.5, label=name)\n",
    "    \n",
    "plt.xlabel(\"Lag1\")\n",
    "plt.ylabel(\"Lag2\")\n",
    "\n",
    "plt.legend()"
   ]
  },
  {
   "cell_type": "markdown",
   "id": "47e65321-b31f-4dae-84e8-9502962f4473",
   "metadata": {},
   "source": [
    "The above plot tries to visualize the effect of Lag1 and Lag2 on the direction of the stock. There seems to be no clear pattern in this. Perhaps, applying some machine learning algorithms will reveal a pattern here."
   ]
  },
  {
   "cell_type": "markdown",
   "id": "14751893-ce3e-46ce-800c-50afbe30c157",
   "metadata": {},
   "source": [
    "<b>(b)</b>"
   ]
  },
  {
   "cell_type": "code",
   "execution_count": 20,
   "id": "dcb9e66c-8fc2-4719-aec8-422d83c53929",
   "metadata": {},
   "outputs": [
    {
     "name": "stdout",
     "output_type": "stream",
     "text": [
      "Optimization terminated successfully.\n",
      "         Current function value: 0.686896\n",
      "         Iterations 4\n",
      "                           Logit Regression Results                           \n",
      "==============================================================================\n",
      "Dep. Variable:             Direction2   No. Observations:                 1089\n",
      "Model:                          Logit   Df Residuals:                     1083\n",
      "Method:                           MLE   Df Model:                            5\n",
      "Date:                Thu, 13 Oct 2022   Pseudo R-squ.:               9.505e-05\n",
      "Time:                        22:13:51   Log-Likelihood:                -748.03\n",
      "converged:                       True   LL-Null:                       -748.10\n",
      "Covariance Type:            nonrobust   LLR p-value:                    0.9996\n",
      "==============================================================================\n",
      "                 coef    std err          z      P>|z|      [0.025      0.975]\n",
      "------------------------------------------------------------------------------\n",
      "Lag1          -0.0327      0.026     -1.250      0.211      -0.084       0.019\n",
      "Lag2           0.0682      0.027      2.556      0.011       0.016       0.120\n",
      "Lag3          -0.0081      0.026     -0.306      0.759      -0.060       0.044\n",
      "Lag4          -0.0194      0.026     -0.740      0.459      -0.071       0.032\n",
      "Lag5          -0.0069      0.026     -0.261      0.794      -0.058       0.045\n",
      "Volume         0.0569      0.027      2.125      0.034       0.004       0.109\n",
      "==============================================================================\n"
     ]
    }
   ],
   "source": [
    "clf = sm.Logit(df['Direction2'], df[['Lag1','Lag2', 'Lag3','Lag4', 'Lag5','Volume']])\n",
    "result = clf.fit()\n",
    "print(result.summary())"
   ]
  },
  {
   "cell_type": "markdown",
   "id": "3510ee88-a07d-4a5e-a6f8-b61c13f77b0f",
   "metadata": {},
   "source": [
    "Lag2 and Volume seem to be the most significant predictors when we fit the model using all of the features. They are both significant when $\\alpha = 0.05$."
   ]
  },
  {
   "cell_type": "markdown",
   "id": "cf02bd13-f464-41bd-a765-b10c94232697",
   "metadata": {},
   "source": [
    "<b>(c)</b>"
   ]
  },
  {
   "cell_type": "code",
   "execution_count": 14,
   "id": "e72b0c96-2504-4bff-b70a-d15c1416c8b6",
   "metadata": {},
   "outputs": [],
   "source": [
    "# Confusion matrix\n",
    "\n",
    "def plot_cm(labels, predictions, p=0.5):\n",
    "    \n",
    "    cm = confusion_matrix(labels, predictions > p)\n",
    "    plt.figure(figsize=(5,5))\n",
    "    sns.heatmap(cm, annot=True, fmt=\"d\")\n",
    "    plt.title('Confusion matrix @{:.2f}'.format(p))\n",
    "    plt.ylabel('Actual label')\n",
    "    plt.xlabel('Predicted label')\n",
    "\n",
    "    print('True Negatives: ', cm[0][0])\n",
    "    print('False Positives: ', cm[0][1])\n",
    "    print('False Negatives: ', cm[1][0])\n",
    "    print('True Positives: ', cm[1][1])\n",
    "    print('Total Positive (Actual): ', np.sum(cm[1]))"
   ]
  },
  {
   "cell_type": "code",
   "execution_count": 15,
   "id": "143c20f3-051e-45d7-a71b-57397d8184ed",
   "metadata": {},
   "outputs": [
    {
     "name": "stdout",
     "output_type": "stream",
     "text": [
      "True Negatives:  54\n",
      "False Positives:  430\n",
      "False Negatives:  48\n",
      "True Positives:  557\n",
      "Total Positive (Actual):  605\n"
     ]
    },
    {
     "data": {
      "image/png": "[encoded data removed]",
      "text/plain": [
       "<Figure size 360x360 with 2 Axes>"
      ]
     },
     "metadata": {},
     "output_type": "display_data"
    }
   ],
   "source": [
    "plot_cm(df[\"Direction2\"], clf.predict(df[['Lag1','Lag2', 'Lag3','Lag4', 'Lag5','Volume']]))"
   ]
  },
  {
   "cell_type": "markdown",
   "id": "0d207e6d-4fab-49c9-9b1c-8d58a3ef2ad7",
   "metadata": {},
   "source": [
    "The overall fraction of the correct predictions is 611/1089 $\\approx$ 0.56165. Most of the mistakes made were false positives, meaning: our model predicted that the stock will go up when the stock actually went down."
   ]
  },
  {
   "cell_type": "markdown",
   "id": "0abffc01-1ecb-4185-a0b1-e930ec637563",
   "metadata": {},
   "source": [
    "<b>(d)</b>"
   ]
  },
  {
   "cell_type": "code",
   "execution_count": 16,
   "id": "a26fbe6c-5c9c-442f-8153-a8576808fd04",
   "metadata": {},
   "outputs": [],
   "source": [
    "#from sklearn.model_selection import train_test_split\n",
    "#df_train, df_test = train_test_split(smarket, random_state=1)\n",
    "df_train = df[df['Year']<2009]\n",
    "df_test = df[df['Year']>=2009]"
   ]
  },
  {
   "cell_type": "code",
   "execution_count": 17,
   "id": "aadc7d9f-b332-4387-b1ec-0e050715a617",
   "metadata": {},
   "outputs": [
    {
     "data": {
      "text/plain": [
       "LogisticRegression(solver='newton-cg')"
      ]
     },
     "execution_count": 17,
     "metadata": {},
     "output_type": "execute_result"
    }
   ],
   "source": [
    "logistic = skl_lm.LogisticRegression(solver='newton-cg')\n",
    "logistic.fit(df_train[['Lag2']],df_train['Direction2'])"
   ]
  },
  {
   "cell_type": "code",
   "execution_count": 18,
   "id": "cb612905-5dd6-4e65-bf10-6b829ab10998",
   "metadata": {},
   "outputs": [
    {
     "name": "stdout",
     "output_type": "stream",
     "text": [
      "True Negatives:  9\n",
      "False Positives:  34\n",
      "False Negatives:  5\n",
      "True Positives:  56\n",
      "Total Positive (Actual):  61\n"
     ]
    },
    {
     "data": {
      "image/png": "[encoded data removed]",
      "text/plain": [
       "<Figure size 360x360 with 2 Axes>"
      ]
     },
     "metadata": {},
     "output_type": "display_data"
    }
   ],
   "source": [
    "plot_cm(df_test[\"Direction2\"], logistic.predict(df_test[['Lag2']]))"
   ]
  },
  {
   "cell_type": "markdown",
   "id": "62bb2192-8713-4a7e-9356-9fd260f6fa77",
   "metadata": {},
   "source": [
    "The overall fraction of the correct predictions for the logistic regression model on the test data is 65/104 = 0.625."
   ]
  },
  {
   "cell_type": "markdown",
   "id": "a8794dd2-f3c1-4080-ac87-ea1f54e554f0",
   "metadata": {},
   "source": [
    "<b>(e)</b>"
   ]
  },
  {
   "cell_type": "code",
   "execution_count": 19,
   "id": "3034f3dc-e085-4524-afc5-05a9ae109ff9",
   "metadata": {},
   "outputs": [
    {
     "data": {
      "text/plain": [
       "array([1, 1, 0, 0, 1, 1, 1, 0, 0, 0, 0, 1, 1, 1, 1, 1, 1, 1, 1, 1, 0, 1,\n",
       "       1, 1, 1, 1, 1, 1, 1, 1, 1, 1, 1, 1, 1, 1, 1, 1, 1, 1, 1, 1, 1, 1,\n",
       "       0, 1, 1, 1, 1, 1, 1, 1, 1, 1, 1, 1, 0, 1, 1, 1, 1, 1, 1, 1, 1, 1,\n",
       "       1, 1, 1, 1, 1, 0, 1, 0, 1, 1, 1, 1, 0, 0, 1, 1, 1, 1, 1, 0, 1, 1,\n",
       "       1, 1, 1, 1, 1, 1, 1, 1, 1, 1, 1, 1, 1, 1, 1, 1], dtype=int64)"
      ]
     },
     "execution_count": 19,
     "metadata": {},
     "output_type": "execute_result"
    }
   ],
   "source": [
    "lda = LinearDiscriminantAnalysis()\n",
    "lda.fit(df_train[[\"Lag2\"]], df_train[\"Direction2\"]).predict(df_test[[\"Lag2\"]])"
   ]
  },
  {
   "cell_type": "code",
   "execution_count": 20,
   "id": "53f18301-f71e-4353-8178-dc4e38d43dab",
   "metadata": {},
   "outputs": [
    {
     "name": "stdout",
     "output_type": "stream",
     "text": [
      "True Negatives:  9\n",
      "False Positives:  34\n",
      "False Negatives:  5\n",
      "True Positives:  56\n",
      "Total Positive (Actual):  61\n"
     ]
    },
    {
     "data": {
      "image/png": "[encoded data removed]",
      "text/plain": [
       "<Figure size 360x360 with 2 Axes>"
      ]
     },
     "metadata": {},
     "output_type": "display_data"
    }
   ],
   "source": [
    "plot_cm(df_test[\"Direction2\"], lda.predict(df_test[['Lag2']]))"
   ]
  },
  {
   "cell_type": "markdown",
   "id": "420ae831-4248-4921-8fc7-8ddfc811efce",
   "metadata": {},
   "source": [
    "The overall fraction of the correct predictions for the LDA model on the test data is 65/104 = 0.625."
   ]
  },
  {
   "cell_type": "markdown",
   "id": "b1a05366-fa53-4329-b27e-f63651b2ca22",
   "metadata": {},
   "source": [
    "<b>(f)</b>"
   ]
  },
  {
   "cell_type": "code",
   "execution_count": 21,
   "id": "47a4f979-33a8-4490-946c-1ca1ecd49d96",
   "metadata": {},
   "outputs": [
    {
     "data": {
      "text/plain": [
       "array([1, 1, 1, 1, 1, 1, 1, 1, 1, 1, 1, 1, 1, 1, 1, 1, 1, 1, 1, 1, 1, 1,\n",
       "       1, 1, 1, 1, 1, 1, 1, 1, 1, 1, 1, 1, 1, 1, 1, 1, 1, 1, 1, 1, 1, 1,\n",
       "       1, 1, 1, 1, 1, 1, 1, 1, 1, 1, 1, 1, 1, 1, 1, 1, 1, 1, 1, 1, 1, 1,\n",
       "       1, 1, 1, 1, 1, 1, 1, 1, 1, 1, 1, 1, 1, 1, 1, 1, 1, 1, 1, 1, 1, 1,\n",
       "       1, 1, 1, 1, 1, 1, 1, 1, 1, 1, 1, 1, 1, 1, 1, 1], dtype=int64)"
      ]
     },
     "execution_count": 21,
     "metadata": {},
     "output_type": "execute_result"
    }
   ],
   "source": [
    "qda = QuadraticDiscriminantAnalysis()\n",
    "qda.fit(df_train[[\"Lag2\"]], df_train[\"Direction2\"]).predict(df_test[[\"Lag2\"]])"
   ]
  },
  {
   "cell_type": "code",
   "execution_count": 22,
   "id": "f7ab97e6-3b1a-4813-8ce9-5a1774b60b68",
   "metadata": {},
   "outputs": [
    {
     "name": "stdout",
     "output_type": "stream",
     "text": [
      "True Negatives:  0\n",
      "False Positives:  43\n",
      "False Negatives:  0\n",
      "True Positives:  61\n",
      "Total Positive (Actual):  61\n"
     ]
    },
    {
     "data": {
      "image/png": "[encoded data removed]",
      "text/plain": [
       "<Figure size 360x360 with 2 Axes>"
      ]
     },
     "metadata": {},
     "output_type": "display_data"
    }
   ],
   "source": [
    "plot_cm(df_test[\"Direction2\"], qda.predict(df_test[['Lag2']]))"
   ]
  },
  {
   "cell_type": "markdown",
   "id": "6aa61c07-66e3-4a0b-886b-bca30925b422",
   "metadata": {},
   "source": [
    "The overall fraction of the correct predictions for the QDA model on the test data is 61/104 $\\approx$ 0.58654."
   ]
  },
  {
   "cell_type": "markdown",
   "id": "da68380f-3479-45ec-bf7d-b33e9c82cce2",
   "metadata": {},
   "source": [
    "<b>(g)</b>"
   ]
  },
  {
   "cell_type": "code",
   "execution_count": 23,
   "id": "513ec54c-e156-4449-9642-2ef4f4052c5b",
   "metadata": {},
   "outputs": [
    {
     "data": {
      "text/plain": [
       "array([1, 1, 0, 0, 0, 1, 1, 0, 1, 0, 1, 0, 1, 1, 1, 0, 0, 0, 0, 1, 0, 0,\n",
       "       1, 0, 0, 0, 0, 0, 0, 1, 1, 1, 1, 0, 1, 1, 1, 0, 0, 1, 0, 0, 0, 0,\n",
       "       1, 0, 0, 1, 0, 1, 1, 1, 0, 0, 1, 1, 0, 1, 0, 0, 1, 0, 0, 0, 0, 0,\n",
       "       0, 1, 1, 1, 1, 1, 0, 1, 1, 1, 1, 1, 0, 1, 1, 1, 0, 0, 0, 1, 1, 1,\n",
       "       1, 1, 1, 1, 0, 0, 0, 1, 0, 1, 0, 0, 1, 0, 0, 1], dtype=int64)"
      ]
     },
     "execution_count": 23,
     "metadata": {},
     "output_type": "execute_result"
    }
   ],
   "source": [
    "knn = neighbors.KNeighborsClassifier(n_neighbors=1)\n",
    "knn.fit(df_train[[\"Lag2\"]], df_train[\"Direction2\"]).predict(df_test[[\"Lag2\"]])"
   ]
  },
  {
   "cell_type": "code",
   "execution_count": 24,
   "id": "8cc98264-af04-47cd-a27c-f605c6651462",
   "metadata": {},
   "outputs": [
    {
     "name": "stdout",
     "output_type": "stream",
     "text": [
      "True Negatives:  22\n",
      "False Positives:  21\n",
      "False Negatives:  30\n",
      "True Positives:  31\n",
      "Total Positive (Actual):  61\n"
     ]
    },
    {
     "data": {
      "image/png": "[encoded data removed]",
      "text/plain": [
       "<Figure size 360x360 with 2 Axes>"
      ]
     },
     "metadata": {},
     "output_type": "display_data"
    }
   ],
   "source": [
    "plot_cm(df_test[\"Direction2\"], knn.predict(df_test[['Lag2']]))"
   ]
  },
  {
   "cell_type": "markdown",
   "id": "d0ca50d6-cfb0-4c7e-babc-a17340970d55",
   "metadata": {},
   "source": [
    "The overall fraction of the correct predictions for the KNN model on the test data is 53/104 $\\approx$ 0.50962."
   ]
  },
  {
   "cell_type": "markdown",
   "id": "45dfcbe0-2f0f-40e1-964b-c596600fb5d7",
   "metadata": {},
   "source": [
    "<b>(h)</b>"
   ]
  },
  {
   "cell_type": "markdown",
   "id": "bd52e89f-3e8d-42af-8596-4f17c7e0a8ab",
   "metadata": {},
   "source": [
    "The logistic regression model and the LDA model appear to provide the best results on this data."
   ]
  },
  {
   "cell_type": "markdown",
   "id": "3855344d-4271-40eb-91fe-a0c5866b07e0",
   "metadata": {},
   "source": [
    "<b>(i)</b>"
   ]
  },
  {
   "cell_type": "markdown",
   "id": "6170e204-5adb-457b-a35f-06cad4ea7053",
   "metadata": {},
   "source": [
    "I will create two types of dataframes to train each of the algorithms on. One of the dataframe will consist of all of the given lag features and volume. The other dataframe will include quadratic transformations of all of the features and all interactions of the features. I will use the test accuracy to choose the best model."
   ]
  },
  {
   "cell_type": "code",
   "execution_count": 117,
   "id": "cbd4e3d8-3984-40f9-83b0-18cfa2da0854",
   "metadata": {},
   "outputs": [],
   "source": [
    "x_train = df_train.drop(['Direction', 'Direction2', 'Unnamed: 0', 'Year', 'Today'], axis=1)\n",
    "y_train = df_train['Direction2']\n",
    "x_test = df_test.drop(['Direction', 'Direction2', 'Unnamed: 0', 'Year', 'Today'], axis=1)\n",
    "y_test = df_test['Direction2']"
   ]
  },
  {
   "cell_type": "code",
   "execution_count": 124,
   "id": "389e027a-736f-4cfc-b2b4-99a6498fe57d",
   "metadata": {},
   "outputs": [
    {
     "data": {
      "text/html": [
       "<div>\n",
       "<style scoped>\n",
       "    .dataframe tbody tr th:only-of-type {\n",
       "        vertical-align: middle;\n",
       "    }\n",
       "\n",
       "    .dataframe tbody tr th {\n",
       "        vertical-align: top;\n",
       "    }\n",
       "\n",
       "    .dataframe thead th {\n",
       "        text-align: right;\n",
       "    }\n",
       "</style>\n",
       "<table border=\"1\" class=\"dataframe\">\n",
       "  <thead>\n",
       "    <tr style=\"text-align: right;\">\n",
       "      <th></th>\n",
       "      <th>Lag1</th>\n",
       "      <th>Lag2</th>\n",
       "      <th>Lag3</th>\n",
       "      <th>Lag4</th>\n",
       "      <th>Lag5</th>\n",
       "      <th>Volume</th>\n",
       "    </tr>\n",
       "  </thead>\n",
       "  <tbody>\n",
       "    <tr>\n",
       "      <th>0</th>\n",
       "      <td>0.816</td>\n",
       "      <td>1.572</td>\n",
       "      <td>-3.936</td>\n",
       "      <td>-0.229</td>\n",
       "      <td>-3.484</td>\n",
       "      <td>0.154976</td>\n",
       "    </tr>\n",
       "    <tr>\n",
       "      <th>1</th>\n",
       "      <td>-0.270</td>\n",
       "      <td>0.816</td>\n",
       "      <td>1.572</td>\n",
       "      <td>-3.936</td>\n",
       "      <td>-0.229</td>\n",
       "      <td>0.148574</td>\n",
       "    </tr>\n",
       "    <tr>\n",
       "      <th>2</th>\n",
       "      <td>-2.576</td>\n",
       "      <td>-0.270</td>\n",
       "      <td>0.816</td>\n",
       "      <td>1.572</td>\n",
       "      <td>-3.936</td>\n",
       "      <td>0.159837</td>\n",
       "    </tr>\n",
       "    <tr>\n",
       "      <th>3</th>\n",
       "      <td>3.514</td>\n",
       "      <td>-2.576</td>\n",
       "      <td>-0.270</td>\n",
       "      <td>0.816</td>\n",
       "      <td>1.572</td>\n",
       "      <td>0.161630</td>\n",
       "    </tr>\n",
       "    <tr>\n",
       "      <th>4</th>\n",
       "      <td>0.712</td>\n",
       "      <td>3.514</td>\n",
       "      <td>-2.576</td>\n",
       "      <td>-0.270</td>\n",
       "      <td>0.816</td>\n",
       "      <td>0.153728</td>\n",
       "    </tr>\n",
       "  </tbody>\n",
       "</table>\n",
       "</div>"
      ],
      "text/plain": [
       "    Lag1   Lag2   Lag3   Lag4   Lag5    Volume\n",
       "0  0.816  1.572 -3.936 -0.229 -3.484  0.154976\n",
       "1 -0.270  0.816  1.572 -3.936 -0.229  0.148574\n",
       "2 -2.576 -0.270  0.816  1.572 -3.936  0.159837\n",
       "3  3.514 -2.576 -0.270  0.816  1.572  0.161630\n",
       "4  0.712  3.514 -2.576 -0.270  0.816  0.153728"
      ]
     },
     "execution_count": 124,
     "metadata": {},
     "output_type": "execute_result"
    }
   ],
   "source": [
    "x_train.head()"
   ]
  },
  {
   "cell_type": "code",
   "execution_count": 119,
   "id": "2970e3ba-bbb9-4193-8c5e-90d166917d13",
   "metadata": {},
   "outputs": [
    {
     "data": {
      "text/html": [
       "<div>\n",
       "<style scoped>\n",
       "    .dataframe tbody tr th:only-of-type {\n",
       "        vertical-align: middle;\n",
       "    }\n",
       "\n",
       "    .dataframe tbody tr th {\n",
       "        vertical-align: top;\n",
       "    }\n",
       "\n",
       "    .dataframe thead th {\n",
       "        text-align: right;\n",
       "    }\n",
       "</style>\n",
       "<table border=\"1\" class=\"dataframe\">\n",
       "  <thead>\n",
       "    <tr style=\"text-align: right;\">\n",
       "      <th></th>\n",
       "      <th>Lag1</th>\n",
       "      <th>Lag2</th>\n",
       "      <th>Lag3</th>\n",
       "      <th>Lag4</th>\n",
       "      <th>Lag5</th>\n",
       "      <th>Volume</th>\n",
       "      <th>Lag1_Lag1</th>\n",
       "      <th>Lag1_Lag2</th>\n",
       "      <th>Lag1_Lag3</th>\n",
       "      <th>Lag1_Lag4</th>\n",
       "      <th>...</th>\n",
       "      <th>Lag3_Lag3</th>\n",
       "      <th>Lag3_Lag4</th>\n",
       "      <th>Lag3_Lag5</th>\n",
       "      <th>Lag3_Volume</th>\n",
       "      <th>Lag4_Lag4</th>\n",
       "      <th>Lag4_Lag5</th>\n",
       "      <th>Lag4_Volume</th>\n",
       "      <th>Lag5_Lag5</th>\n",
       "      <th>Lag5_Volume</th>\n",
       "      <th>Volume_Volume</th>\n",
       "    </tr>\n",
       "  </thead>\n",
       "  <tbody>\n",
       "    <tr>\n",
       "      <th>0</th>\n",
       "      <td>0.816</td>\n",
       "      <td>1.572</td>\n",
       "      <td>-3.936</td>\n",
       "      <td>-0.229</td>\n",
       "      <td>-3.484</td>\n",
       "      <td>0.154976</td>\n",
       "      <td>0.665856</td>\n",
       "      <td>1.282752</td>\n",
       "      <td>-3.211776</td>\n",
       "      <td>-0.186864</td>\n",
       "      <td>...</td>\n",
       "      <td>15.492096</td>\n",
       "      <td>0.901344</td>\n",
       "      <td>13.713024</td>\n",
       "      <td>-0.609986</td>\n",
       "      <td>0.052441</td>\n",
       "      <td>0.797836</td>\n",
       "      <td>-0.035490</td>\n",
       "      <td>12.138256</td>\n",
       "      <td>-0.539936</td>\n",
       "      <td>0.024018</td>\n",
       "    </tr>\n",
       "    <tr>\n",
       "      <th>1</th>\n",
       "      <td>-0.270</td>\n",
       "      <td>0.816</td>\n",
       "      <td>1.572</td>\n",
       "      <td>-3.936</td>\n",
       "      <td>-0.229</td>\n",
       "      <td>0.148574</td>\n",
       "      <td>0.072900</td>\n",
       "      <td>-0.220320</td>\n",
       "      <td>-0.424440</td>\n",
       "      <td>1.062720</td>\n",
       "      <td>...</td>\n",
       "      <td>2.471184</td>\n",
       "      <td>-6.187392</td>\n",
       "      <td>-0.359988</td>\n",
       "      <td>0.233558</td>\n",
       "      <td>15.492096</td>\n",
       "      <td>0.901344</td>\n",
       "      <td>-0.584787</td>\n",
       "      <td>0.052441</td>\n",
       "      <td>-0.034023</td>\n",
       "      <td>0.022074</td>\n",
       "    </tr>\n",
       "    <tr>\n",
       "      <th>2</th>\n",
       "      <td>-2.576</td>\n",
       "      <td>-0.270</td>\n",
       "      <td>0.816</td>\n",
       "      <td>1.572</td>\n",
       "      <td>-3.936</td>\n",
       "      <td>0.159837</td>\n",
       "      <td>6.635776</td>\n",
       "      <td>0.695520</td>\n",
       "      <td>-2.102016</td>\n",
       "      <td>-4.049472</td>\n",
       "      <td>...</td>\n",
       "      <td>0.665856</td>\n",
       "      <td>1.282752</td>\n",
       "      <td>-3.211776</td>\n",
       "      <td>0.130427</td>\n",
       "      <td>2.471184</td>\n",
       "      <td>-6.187392</td>\n",
       "      <td>0.251265</td>\n",
       "      <td>15.492096</td>\n",
       "      <td>-0.629120</td>\n",
       "      <td>0.025548</td>\n",
       "    </tr>\n",
       "    <tr>\n",
       "      <th>3</th>\n",
       "      <td>3.514</td>\n",
       "      <td>-2.576</td>\n",
       "      <td>-0.270</td>\n",
       "      <td>0.816</td>\n",
       "      <td>1.572</td>\n",
       "      <td>0.161630</td>\n",
       "      <td>12.348196</td>\n",
       "      <td>-9.052064</td>\n",
       "      <td>-0.948780</td>\n",
       "      <td>2.867424</td>\n",
       "      <td>...</td>\n",
       "      <td>0.072900</td>\n",
       "      <td>-0.220320</td>\n",
       "      <td>-0.424440</td>\n",
       "      <td>-0.043640</td>\n",
       "      <td>0.665856</td>\n",
       "      <td>1.282752</td>\n",
       "      <td>0.131890</td>\n",
       "      <td>2.471184</td>\n",
       "      <td>0.254082</td>\n",
       "      <td>0.026124</td>\n",
       "    </tr>\n",
       "    <tr>\n",
       "      <th>4</th>\n",
       "      <td>0.712</td>\n",
       "      <td>3.514</td>\n",
       "      <td>-2.576</td>\n",
       "      <td>-0.270</td>\n",
       "      <td>0.816</td>\n",
       "      <td>0.153728</td>\n",
       "      <td>0.506944</td>\n",
       "      <td>2.501968</td>\n",
       "      <td>-1.834112</td>\n",
       "      <td>-0.192240</td>\n",
       "      <td>...</td>\n",
       "      <td>6.635776</td>\n",
       "      <td>0.695520</td>\n",
       "      <td>-2.102016</td>\n",
       "      <td>-0.396003</td>\n",
       "      <td>0.072900</td>\n",
       "      <td>-0.220320</td>\n",
       "      <td>-0.041507</td>\n",
       "      <td>0.665856</td>\n",
       "      <td>0.125442</td>\n",
       "      <td>0.023632</td>\n",
       "    </tr>\n",
       "  </tbody>\n",
       "</table>\n",
       "<p>5 rows × 27 columns</p>\n",
       "</div>"
      ],
      "text/plain": [
       "    Lag1   Lag2   Lag3   Lag4   Lag5    Volume  Lag1_Lag1  Lag1_Lag2  \\\n",
       "0  0.816  1.572 -3.936 -0.229 -3.484  0.154976   0.665856   1.282752   \n",
       "1 -0.270  0.816  1.572 -3.936 -0.229  0.148574   0.072900  -0.220320   \n",
       "2 -2.576 -0.270  0.816  1.572 -3.936  0.159837   6.635776   0.695520   \n",
       "3  3.514 -2.576 -0.270  0.816  1.572  0.161630  12.348196  -9.052064   \n",
       "4  0.712  3.514 -2.576 -0.270  0.816  0.153728   0.506944   2.501968   \n",
       "\n",
       "   Lag1_Lag3  Lag1_Lag4  ...  Lag3_Lag3  Lag3_Lag4  Lag3_Lag5  Lag3_Volume  \\\n",
       "0  -3.211776  -0.186864  ...  15.492096   0.901344  13.713024    -0.609986   \n",
       "1  -0.424440   1.062720  ...   2.471184  -6.187392  -0.359988     0.233558   \n",
       "2  -2.102016  -4.049472  ...   0.665856   1.282752  -3.211776     0.130427   \n",
       "3  -0.948780   2.867424  ...   0.072900  -0.220320  -0.424440    -0.043640   \n",
       "4  -1.834112  -0.192240  ...   6.635776   0.695520  -2.102016    -0.396003   \n",
       "\n",
       "   Lag4_Lag4  Lag4_Lag5  Lag4_Volume  Lag5_Lag5  Lag5_Volume  Volume_Volume  \n",
       "0   0.052441   0.797836    -0.035490  12.138256    -0.539936       0.024018  \n",
       "1  15.492096   0.901344    -0.584787   0.052441    -0.034023       0.022074  \n",
       "2   2.471184  -6.187392     0.251265  15.492096    -0.629120       0.025548  \n",
       "3   0.665856   1.282752     0.131890   2.471184     0.254082       0.026124  \n",
       "4   0.072900  -0.220320    -0.041507   0.665856     0.125442       0.023632  \n",
       "\n",
       "[5 rows x 27 columns]"
      ]
     },
     "execution_count": 119,
     "metadata": {},
     "output_type": "execute_result"
    }
   ],
   "source": [
    "all_train = x_train.copy()\n",
    "for feature in ['Lag1', 'Lag2', 'Lag3', 'Lag4', 'Lag5', 'Volume']:\n",
    "    for feature2 in ['Lag1', 'Lag2', 'Lag3', 'Lag4', 'Lag5', 'Volume']:\n",
    "        all_train[feature+'_'+feature2] = all_train[feature]*all_train[feature2]\n",
    "all_train = all_train.T.drop_duplicates().T\n",
    "all_train.head()"
   ]
  },
  {
   "cell_type": "code",
   "execution_count": 121,
   "id": "ed755388-83d5-4166-8503-d08a9ccb11bf",
   "metadata": {},
   "outputs": [],
   "source": [
    "all_test = x_test.copy()\n",
    "for feature in ['Lag1', 'Lag2', 'Lag3', 'Lag4', 'Lag5', 'Volume']:\n",
    "    for feature2 in ['Lag1', 'Lag2', 'Lag3', 'Lag4', 'Lag5', 'Volume']:\n",
    "        all_test[feature+'_'+feature2] = all_test[feature]*all_test[feature2]\n",
    "all_test = all_test.T.drop_duplicates().T"
   ]
  },
  {
   "cell_type": "code",
   "execution_count": 125,
   "id": "cd79e8f7-b7c4-4e94-9170-faf05adeccce",
   "metadata": {},
   "outputs": [],
   "source": [
    "Log = skl_lm.LogisticRegression(solver='newton-cg')\n",
    "knn1 = neighbors.KNeighborsClassifier(n_neighbors=1)\n",
    "knn3 = neighbors.KNeighborsClassifier(n_neighbors=3)\n",
    "knn5 = neighbors.KNeighborsClassifier(n_neighbors=5)\n",
    "knn10 = neighbors.KNeighborsClassifier(n_neighbors=10)\n",
    "QDA = QuadraticDiscriminantAnalysis()\n",
    "LDA = LinearDiscriminantAnalysis()"
   ]
  },
  {
   "cell_type": "code",
   "execution_count": 128,
   "id": "fdbeaa2f-d0d8-456c-b8c6-7467ef22817f",
   "metadata": {},
   "outputs": [
    {
     "name": "stdout",
     "output_type": "stream",
     "text": [
      "Train accuracy is: 0.5624365482233502\n",
      "Test accuracy is: 0.46153846153846156\n"
     ]
    }
   ],
   "source": [
    "Log.fit(x_train, y_train)\n",
    "print(\"Train accuracy is:\", accuracy_score(y_train, Log.predict(x_train)))\n",
    "print(\"Test accuracy is:\", accuracy_score(y_test, Log.predict(x_test)))"
   ]
  },
  {
   "cell_type": "code",
   "execution_count": 129,
   "id": "2c664c25-05b4-47c0-a2ac-9576885c49b3",
   "metadata": {},
   "outputs": [
    {
     "name": "stdout",
     "output_type": "stream",
     "text": [
      "Train accuracy is: 0.5644670050761421\n",
      "Test accuracy is: 0.5673076923076923\n"
     ]
    }
   ],
   "source": [
    "Log.fit(all_train, y_train)\n",
    "print(\"Train accuracy is:\",accuracy_score(y_train, Log.predict(all_train)))\n",
    "print(\"Test accuracy is:\", accuracy_score(y_test, Log.predict(all_test)))"
   ]
  },
  {
   "cell_type": "code",
   "execution_count": 130,
   "id": "4122cd02-5744-4b35-a955-5bfcf462875e",
   "metadata": {},
   "outputs": [
    {
     "name": "stdout",
     "output_type": "stream",
     "text": [
      "Train accuracy is: 1.0\n",
      "Test accuracy is: 0.4807692307692308\n"
     ]
    }
   ],
   "source": [
    "knn1.fit(x_train, y_train)\n",
    "print(\"Train accuracy is:\", accuracy_score(y_train, knn1.predict(x_train)))\n",
    "print(\"Test accuracy is:\", accuracy_score(y_test, knn1.predict(x_test)))"
   ]
  },
  {
   "cell_type": "code",
   "execution_count": 131,
   "id": "94787f97-b12f-467f-97fc-d9b8dc9f809e",
   "metadata": {},
   "outputs": [
    {
     "name": "stdout",
     "output_type": "stream",
     "text": [
      "Train accuracy is: 1.0\n",
      "Test accuracy is: 0.49038461538461536\n"
     ]
    }
   ],
   "source": [
    "knn1.fit(all_train, y_train)\n",
    "print(\"Train accuracy is:\",accuracy_score(y_train, knn1.predict(all_train)))\n",
    "print(\"Test accuracy is:\", accuracy_score(y_test, knn1.predict(all_test)))"
   ]
  },
  {
   "cell_type": "code",
   "execution_count": 132,
   "id": "f03f763c-0de3-4074-bff0-d21b6c1a3bc0",
   "metadata": {},
   "outputs": [
    {
     "name": "stdout",
     "output_type": "stream",
     "text": [
      "Train accuracy is: 0.732994923857868\n",
      "Test accuracy is: 0.5096153846153846\n"
     ]
    }
   ],
   "source": [
    "knn3.fit(x_train, y_train)\n",
    "print(\"Train accuracy is:\", accuracy_score(y_train, knn3.predict(x_train)))\n",
    "print(\"Test accuracy is:\", accuracy_score(y_test, knn3.predict(x_test)))"
   ]
  },
  {
   "cell_type": "code",
   "execution_count": 133,
   "id": "b14950df-a522-434c-b49b-5b299d0dfa77",
   "metadata": {},
   "outputs": [
    {
     "name": "stdout",
     "output_type": "stream",
     "text": [
      "Train accuracy is: 0.7472081218274111\n",
      "Test accuracy is: 0.49038461538461536\n"
     ]
    }
   ],
   "source": [
    "knn3.fit(all_train, y_train)\n",
    "print(\"Train accuracy is:\",accuracy_score(y_train, knn3.predict(all_train)))\n",
    "print(\"Test accuracy is:\", accuracy_score(y_test, knn3.predict(all_test)))"
   ]
  },
  {
   "cell_type": "code",
   "execution_count": 134,
   "id": "a96286b5-b6a7-4642-ad32-04a68bd195cb",
   "metadata": {},
   "outputs": [
    {
     "name": "stdout",
     "output_type": "stream",
     "text": [
      "Train accuracy is: 0.6934010152284263\n",
      "Test accuracy is: 0.5\n"
     ]
    }
   ],
   "source": [
    "knn5.fit(x_train, y_train)\n",
    "print(\"Train accuracy is:\", accuracy_score(y_train, knn5.predict(x_train)))\n",
    "print(\"Test accuracy is:\", accuracy_score(y_test, knn5.predict(x_test)))"
   ]
  },
  {
   "cell_type": "code",
   "execution_count": 135,
   "id": "09abda3e-6dd5-48c8-a4c2-c4ebcdb3a9ae",
   "metadata": {},
   "outputs": [
    {
     "name": "stdout",
     "output_type": "stream",
     "text": [
      "Train accuracy is: 0.6913705583756345\n",
      "Test accuracy is: 0.5096153846153846\n"
     ]
    }
   ],
   "source": [
    "knn5.fit(all_train, y_train)\n",
    "print(\"Train accuracy is:\",accuracy_score(y_train, knn5.predict(all_train)))\n",
    "print(\"Test accuracy is:\", accuracy_score(y_test, knn5.predict(all_test)))"
   ]
  },
  {
   "cell_type": "code",
   "execution_count": 136,
   "id": "e0b178e1-bd1d-4ad0-b37b-254c8baa427d",
   "metadata": {},
   "outputs": [
    {
     "name": "stdout",
     "output_type": "stream",
     "text": [
      "Train accuracy is: 0.6294416243654822\n",
      "Test accuracy is: 0.5480769230769231\n"
     ]
    }
   ],
   "source": [
    "knn10.fit(x_train, y_train)\n",
    "print(\"Train accuracy is:\", accuracy_score(y_train, knn10.predict(x_train)))\n",
    "print(\"Test accuracy is:\", accuracy_score(y_test, knn10.predict(x_test)))"
   ]
  },
  {
   "cell_type": "code",
   "execution_count": 137,
   "id": "96cfbcd7-4e6f-43d5-95ac-2406ef4bfcfd",
   "metadata": {},
   "outputs": [
    {
     "name": "stdout",
     "output_type": "stream",
     "text": [
      "Train accuracy is: 0.6385786802030456\n",
      "Test accuracy is: 0.5865384615384616\n"
     ]
    }
   ],
   "source": [
    "knn10.fit(all_train, y_train)\n",
    "print(\"Train accuracy is:\",accuracy_score(y_train, knn10.predict(all_train)))\n",
    "print(\"Test accuracy is:\", accuracy_score(y_test, knn10.predict(all_test)))"
   ]
  },
  {
   "cell_type": "code",
   "execution_count": 138,
   "id": "559fdcb3-a79c-48e7-9877-3cd8f4c9ef9e",
   "metadata": {},
   "outputs": [
    {
     "name": "stdout",
     "output_type": "stream",
     "text": [
      "Train accuracy is: 0.5614213197969543\n",
      "Test accuracy is: 0.4326923076923077\n"
     ]
    }
   ],
   "source": [
    "QDA.fit(x_train, y_train)\n",
    "print(\"Train accuracy is:\", accuracy_score(y_train, QDA.predict(x_train)))\n",
    "print(\"Test accuracy is:\", accuracy_score(y_test, QDA.predict(x_test)))"
   ]
  },
  {
   "cell_type": "code",
   "execution_count": 139,
   "id": "04a8bf9e-e738-4b2f-86f8-7e2a7bf40a4f",
   "metadata": {},
   "outputs": [
    {
     "name": "stdout",
     "output_type": "stream",
     "text": [
      "Train accuracy is: 0.5786802030456852\n",
      "Test accuracy is: 0.4423076923076923\n"
     ]
    }
   ],
   "source": [
    "QDA.fit(all_train, y_train)\n",
    "print(\"Train accuracy is:\",accuracy_score(y_train, QDA.predict(all_train)))\n",
    "print(\"Test accuracy is:\", accuracy_score(y_test, QDA.predict(all_test)))"
   ]
  },
  {
   "cell_type": "code",
   "execution_count": 140,
   "id": "b387a89b-ac41-47c2-a387-6c9a4d647223",
   "metadata": {},
   "outputs": [
    {
     "name": "stdout",
     "output_type": "stream",
     "text": [
      "Train accuracy is: 0.5614213197969543\n",
      "Test accuracy is: 0.46153846153846156\n"
     ]
    }
   ],
   "source": [
    "LDA.fit(x_train, y_train)\n",
    "print(\"Train accuracy is:\", accuracy_score(y_train, LDA.predict(x_train)))\n",
    "print(\"Test accuracy is:\", accuracy_score(y_test, LDA.predict(x_test)))"
   ]
  },
  {
   "cell_type": "code",
   "execution_count": 141,
   "id": "f153e65d-efd3-4c8a-8068-9ad69e6bc673",
   "metadata": {},
   "outputs": [
    {
     "name": "stdout",
     "output_type": "stream",
     "text": [
      "Train accuracy is: 0.5675126903553299\n",
      "Test accuracy is: 0.5769230769230769\n"
     ]
    }
   ],
   "source": [
    "LDA.fit(all_train, y_train)\n",
    "print(\"Train accuracy is:\",accuracy_score(y_train, LDA.predict(all_train)))\n",
    "print(\"Test accuracy is:\", accuracy_score(y_test, LDA.predict(all_test)))"
   ]
  },
  {
   "cell_type": "markdown",
   "id": "ee0fc992-0f03-4e7a-aacc-469462d04221",
   "metadata": {},
   "source": [
    "The KNN with n_neighbors=10 trained on all combinations of features, gave the best test accuracy, which is about 0.5865. For all of the KNN methods tested, as the n_neighbors went up, the accuracy improved. So, I will test higher n_neighbors."
   ]
  },
  {
   "cell_type": "code",
   "execution_count": 142,
   "id": "268cc345-5046-4c21-be57-87748b0e581f",
   "metadata": {},
   "outputs": [],
   "source": [
    "knn15 = neighbors.KNeighborsClassifier(n_neighbors=15)\n",
    "knn20 = neighbors.KNeighborsClassifier(n_neighbors=20)"
   ]
  },
  {
   "cell_type": "code",
   "execution_count": 143,
   "id": "9f7e240e-fbd7-4d5c-917e-8ffe40d9f72a",
   "metadata": {},
   "outputs": [
    {
     "name": "stdout",
     "output_type": "stream",
     "text": [
      "Train accuracy is: 0.6192893401015228\n",
      "Test accuracy is: 0.5576923076923077\n"
     ]
    }
   ],
   "source": [
    "knn15.fit(x_train, y_train)\n",
    "print(\"Train accuracy is:\", accuracy_score(y_train, knn15.predict(x_train)))\n",
    "print(\"Test accuracy is:\", accuracy_score(y_test, knn15.predict(x_test)))"
   ]
  },
  {
   "cell_type": "code",
   "execution_count": 144,
   "id": "8634991b-36cb-4e3e-b314-db67a34cc5b0",
   "metadata": {},
   "outputs": [
    {
     "name": "stdout",
     "output_type": "stream",
     "text": [
      "Train accuracy is: 0.6233502538071066\n",
      "Test accuracy is: 0.5480769230769231\n"
     ]
    }
   ],
   "source": [
    "knn15.fit(all_train, y_train)\n",
    "print(\"Train accuracy is:\",accuracy_score(y_train, knn15.predict(all_train)))\n",
    "print(\"Test accuracy is:\", accuracy_score(y_test, knn15.predict(all_test)))"
   ]
  },
  {
   "cell_type": "code",
   "execution_count": 145,
   "id": "25821773-130f-4491-89a0-6442994f0200",
   "metadata": {},
   "outputs": [
    {
     "name": "stdout",
     "output_type": "stream",
     "text": [
      "Train accuracy is: 0.6091370558375635\n",
      "Test accuracy is: 0.5\n"
     ]
    }
   ],
   "source": [
    "knn20.fit(x_train, y_train)\n",
    "print(\"Train accuracy is:\", accuracy_score(y_train, knn20.predict(x_train)))\n",
    "print(\"Test accuracy is:\", accuracy_score(y_test, knn20.predict(x_test)))"
   ]
  },
  {
   "cell_type": "code",
   "execution_count": 147,
   "id": "61c1865f-83cc-46c9-a59c-9a4e658fd94c",
   "metadata": {},
   "outputs": [
    {
     "name": "stdout",
     "output_type": "stream",
     "text": [
      "Train accuracy is: 0.5857868020304569\n",
      "Test accuracy is: 0.5576923076923077\n"
     ]
    }
   ],
   "source": [
    "knn20.fit(all_train, y_train)\n",
    "print(\"Train accuracy is:\",accuracy_score(y_train, knn20.predict(all_train)))\n",
    "print(\"Test accuracy is:\", accuracy_score(y_test, knn20.predict(all_test)))"
   ]
  },
  {
   "cell_type": "markdown",
   "id": "28f62c8f-3051-4dd9-b2a6-95163e8d81d1",
   "metadata": {},
   "source": [
    "As we increased the n_neighbors beyond 10, the accuracy did not improve. So, our best model based on test accuracy is the KNN with n_neighbors=10, trained on all combinations of interactions."
   ]
  }
 ],
 "metadata": {
  "kernelspec": {
   "display_name": "Python 3 (ipykernel)",
   "language": "python",
   "name": "python3"
  },
  "language_info": {
   "codemirror_mode": {
    "name": "ipython",
    "version": 3
   },
   "file_extension": ".py",
   "mimetype": "text/x-python",
   "name": "python",
   "nbconvert_exporter": "python",
   "pygments_lexer": "ipython3",
   "version": "3.9.12"
  }
 },
 "nbformat": 4,
 "nbformat_minor": 5
}

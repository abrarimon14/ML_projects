{
 "cells": [
  {
   "cell_type": "code",
   "execution_count": 2,
   "id": "27dd9934-b352-47d6-a1f3-b8cab55aaf46",
   "metadata": {},
   "outputs": [],
   "source": [
    "# %load ../standard_import.txt\n",
    "import pandas as pd\n",
    "import numpy as np\n",
    "import matplotlib.pyplot as plt\n",
    "import seaborn as sns\n",
    "\n",
    "# Tree plotting\n",
    "#import pydot, graphviz \n",
    "from IPython.display import Image \n",
    "#from sklearn.externals.six import StringIO  \n",
    "from io import StringIO  \n",
    "\n",
    "# Model selection\n",
    "from sklearn.metrics import mean_squared_error, confusion_matrix, classification_report, accuracy_score\n",
    "from sklearn.model_selection import train_test_split, cross_val_score\n",
    "\n",
    "# Trees\n",
    "from sklearn.tree import DecisionTreeRegressor, DecisionTreeClassifier, export_graphviz\n",
    "\n",
    "%matplotlib inline\n",
    "plt.style.use('seaborn-white')"
   ]
  },
  {
   "cell_type": "code",
   "execution_count": 43,
   "id": "fdcb57a8-b4c1-418c-b9aa-d025c85d8041",
   "metadata": {},
   "outputs": [],
   "source": [
    "df = pd.read_csv(r\"C:\\Users\\shipa\\OneDrive\\Desktop\\STAT 724\\data\\OJ.csv\")"
   ]
  },
  {
   "cell_type": "code",
   "execution_count": 89,
   "id": "b34a7176-a214-4c9c-9136-e9ae0c5ba369",
   "metadata": {},
   "outputs": [],
   "source": [
    "#df.head()"
   ]
  },
  {
   "cell_type": "code",
   "execution_count": 10,
   "id": "32f00410-bf33-4806-a794-12d81ae9efbd",
   "metadata": {},
   "outputs": [
    {
     "data": {
      "text/plain": [
       "array(['CH', 'MM'], dtype=object)"
      ]
     },
     "execution_count": 10,
     "metadata": {},
     "output_type": "execute_result"
    }
   ],
   "source": [
    "df.Purchase.unique()"
   ]
  },
  {
   "cell_type": "code",
   "execution_count": 19,
   "id": "65f27a05-ebd1-4e39-af01-3547eb83b77a",
   "metadata": {},
   "outputs": [
    {
     "data": {
      "text/plain": [
       "array([1, 0, 2, 3, 4], dtype=int64)"
      ]
     },
     "execution_count": 19,
     "metadata": {},
     "output_type": "execute_result"
    }
   ],
   "source": [
    "df['STORE'].unique()"
   ]
  },
  {
   "cell_type": "code",
   "execution_count": 44,
   "id": "d1775362-d809-4a97-91e9-72758bdd62a2",
   "metadata": {},
   "outputs": [],
   "source": [
    "#One Hot Encode cat variables\n",
    "df1 = pd.concat([df, pd.get_dummies(df['STORE'], drop_first=True, prefix=\"Store\")], axis=1)"
   ]
  },
  {
   "cell_type": "code",
   "execution_count": 45,
   "id": "2ea2bd40-c1c3-4b09-a2fd-a3b52cde4d9a",
   "metadata": {},
   "outputs": [],
   "source": [
    "df1 = df1.drop(['Unnamed: 0', 'STORE'], axis=1)"
   ]
  },
  {
   "cell_type": "code",
   "execution_count": 87,
   "id": "1d9e19af-5834-4007-979a-485dfb816083",
   "metadata": {},
   "outputs": [],
   "source": [
    "#df1.head()"
   ]
  },
  {
   "cell_type": "code",
   "execution_count": 48,
   "id": "f50e1adb-e393-4b86-b6a6-8a41c217d8db",
   "metadata": {},
   "outputs": [],
   "source": [
    "from sklearn.preprocessing import LabelEncoder\n",
    "labelencoder = LabelEncoder()"
   ]
  },
  {
   "cell_type": "code",
   "execution_count": 51,
   "id": "4d87bbd7-a4b9-4646-8496-df504f92051d",
   "metadata": {},
   "outputs": [],
   "source": [
    "#Purchase_cat = 0, represents CH, and Purchase_cat = 1, represents MM\n",
    "df1['Purchase_cat'] = labelencoder.fit_transform(df1['Purchase'])"
   ]
  },
  {
   "cell_type": "code",
   "execution_count": 86,
   "id": "0881f1e5-3efc-45c5-88b3-50cfd6e7dd60",
   "metadata": {},
   "outputs": [],
   "source": [
    "#df1.head()"
   ]
  },
  {
   "cell_type": "code",
   "execution_count": 54,
   "id": "19b7f34d-a87c-4730-969e-5e11f19c1836",
   "metadata": {},
   "outputs": [],
   "source": [
    "#Labelencode Store7\n",
    "labelencoder1 = LabelEncoder()\n",
    "df1['Store_7'] = labelencoder1.fit_transform(df1['Store7'])"
   ]
  },
  {
   "cell_type": "code",
   "execution_count": 56,
   "id": "cb9cbc83-3eae-4fdd-a34f-96e4b19e08aa",
   "metadata": {},
   "outputs": [],
   "source": [
    "df1 = df1.drop(['Purchase', 'Store7'], axis=1)"
   ]
  },
  {
   "cell_type": "code",
   "execution_count": 88,
   "id": "78bc3cd0-0d0f-44fe-bb15-2063a0fdafdc",
   "metadata": {},
   "outputs": [],
   "source": [
    "#df1.head()"
   ]
  },
  {
   "cell_type": "code",
   "execution_count": 58,
   "id": "b8f9a3eb-75c9-4525-9a94-ac0292a41007",
   "metadata": {},
   "outputs": [
    {
     "data": {
      "text/plain": [
       "array([1, 7, 2, 3, 4], dtype=int64)"
      ]
     },
     "execution_count": 58,
     "metadata": {},
     "output_type": "execute_result"
    }
   ],
   "source": [
    "df1['StoreID'].unique()"
   ]
  },
  {
   "cell_type": "code",
   "execution_count": 63,
   "id": "9597cb2e-071d-45a4-898b-5de9dac5343f",
   "metadata": {},
   "outputs": [
    {
     "data": {
      "text/html": [
       "<div>\n",
       "<style scoped>\n",
       "    .dataframe tbody tr th:only-of-type {\n",
       "        vertical-align: middle;\n",
       "    }\n",
       "\n",
       "    .dataframe tbody tr th {\n",
       "        vertical-align: top;\n",
       "    }\n",
       "\n",
       "    .dataframe thead th {\n",
       "        text-align: right;\n",
       "    }\n",
       "</style>\n",
       "<table border=\"1\" class=\"dataframe\">\n",
       "  <thead>\n",
       "    <tr style=\"text-align: right;\">\n",
       "      <th></th>\n",
       "      <th>StoreID</th>\n",
       "      <th>STORE</th>\n",
       "    </tr>\n",
       "  </thead>\n",
       "  <tbody>\n",
       "    <tr>\n",
       "      <th>34</th>\n",
       "      <td>3</td>\n",
       "      <td>3</td>\n",
       "    </tr>\n",
       "    <tr>\n",
       "      <th>35</th>\n",
       "      <td>3</td>\n",
       "      <td>3</td>\n",
       "    </tr>\n",
       "    <tr>\n",
       "      <th>89</th>\n",
       "      <td>3</td>\n",
       "      <td>3</td>\n",
       "    </tr>\n",
       "    <tr>\n",
       "      <th>111</th>\n",
       "      <td>3</td>\n",
       "      <td>3</td>\n",
       "    </tr>\n",
       "    <tr>\n",
       "      <th>115</th>\n",
       "      <td>3</td>\n",
       "      <td>3</td>\n",
       "    </tr>\n",
       "  </tbody>\n",
       "</table>\n",
       "</div>"
      ],
      "text/plain": [
       "     StoreID  STORE\n",
       "34         3      3\n",
       "35         3      3\n",
       "89         3      3\n",
       "111        3      3\n",
       "115        3      3"
      ]
     },
     "execution_count": 63,
     "metadata": {},
     "output_type": "execute_result"
    }
   ],
   "source": [
    "df[['StoreID', 'STORE']][df['StoreID']==3].head(5)"
   ]
  },
  {
   "cell_type": "code",
   "execution_count": 65,
   "id": "ec897c82-288a-4f77-87e3-773795619dd8",
   "metadata": {},
   "outputs": [],
   "source": [
    "df1 = df1.drop('StoreID', axis=1)"
   ]
  },
  {
   "cell_type": "code",
   "execution_count": 69,
   "id": "68c86e8b-1850-42c4-a765-644bc0ea8ce3",
   "metadata": {},
   "outputs": [],
   "source": [
    "X = df1.drop('Purchase_cat', axis=1)\n",
    "y = df1['Purchase_cat']"
   ]
  },
  {
   "cell_type": "code",
   "execution_count": 70,
   "id": "189551c4-381d-4c29-ac2f-10d73cbb6f75",
   "metadata": {},
   "outputs": [],
   "source": [
    "#Train Test Split\n",
    "X_train, X_test, y_train, y_test = train_test_split(X, y, test_size=0.7, random_state=1)"
   ]
  },
  {
   "cell_type": "code",
   "execution_count": 15,
   "id": "e5de9170-0431-4da7-9ccc-62b30df1a3b8",
   "metadata": {},
   "outputs": [],
   "source": [
    "from sklearn.ensemble import BaggingClassifier, RandomForestClassifier, BaggingRegressor \\\n",
    "     , RandomForestRegressor, GradientBoostingRegressor, GradientBoostingClassifier"
   ]
  },
  {
   "cell_type": "code",
   "execution_count": 71,
   "id": "235abaef-f983-42c8-9559-77a06807ec9c",
   "metadata": {},
   "outputs": [
    {
     "data": {
      "text/plain": [
       "((1070, 19), (321, 19))"
      ]
     },
     "execution_count": 71,
     "metadata": {},
     "output_type": "execute_result"
    }
   ],
   "source": [
    "X.shape, X_train.shape"
   ]
  },
  {
   "cell_type": "code",
   "execution_count": 76,
   "id": "91142a34-7d51-44d0-864a-48290a128aa2",
   "metadata": {},
   "outputs": [
    {
     "data": {
      "text/plain": [
       "(749, 19)"
      ]
     },
     "execution_count": 76,
     "metadata": {},
     "output_type": "execute_result"
    }
   ],
   "source": [
    "X_test.shape"
   ]
  },
  {
   "cell_type": "code",
   "execution_count": 78,
   "id": "7d4939da-67d5-4bd4-a837-e1cbf8a7d1d7",
   "metadata": {},
   "outputs": [
    {
     "data": {
      "text/plain": [
       "120    0\n",
       "374    1\n",
       "90     0\n",
       "844    1\n",
       "649    0\n",
       "      ..\n",
       "150    1\n",
       "37     0\n",
       "556    1\n",
       "921    0\n",
       "908    0\n",
       "Name: Purchase_cat, Length: 749, dtype: int32"
      ]
     },
     "execution_count": 78,
     "metadata": {},
     "output_type": "execute_result"
    }
   ],
   "source": [
    "y_test"
   ]
  },
  {
   "cell_type": "markdown",
   "id": "88bf38ee-b1c1-4359-bb36-77c1044639c6",
   "metadata": {},
   "source": [
    "### Bagging: using all features"
   ]
  },
  {
   "cell_type": "code",
   "execution_count": 75,
   "id": "c8d20ece-8d09-4776-bc2c-7502468a3b00",
   "metadata": {},
   "outputs": [
    {
     "data": {
      "text/plain": [
       "RandomForestClassifier(max_features=19, random_state=10)"
      ]
     },
     "execution_count": 75,
     "metadata": {},
     "output_type": "execute_result"
    }
   ],
   "source": [
    "classifier1 = RandomForestClassifier(max_features=19, random_state=10)\n",
    "classifier1.fit(X_train, y_train)"
   ]
  },
  {
   "cell_type": "code",
   "execution_count": 77,
   "id": "3e60ac63-a89b-4136-b753-38b3c401ba32",
   "metadata": {},
   "outputs": [],
   "source": [
    "# Confusion matrix\n",
    "\n",
    "def plot_cm(labels, predictions, p=0.5):\n",
    "    \n",
    "    cm = confusion_matrix(labels, predictions > p)\n",
    "    plt.figure(figsize=(5,5))\n",
    "    sns.heatmap(cm, annot=True, fmt=\"d\")\n",
    "    plt.title('Confusion matrix @{:.2f}'.format(p))\n",
    "    plt.ylabel('Actual label')\n",
    "    plt.xlabel('Predicted label')\n",
    "\n",
    "    print('True Negatives: ', cm[0][0])\n",
    "    print('False Positives: ', cm[0][1])\n",
    "    print('False Negatives: ', cm[1][0])\n",
    "    print('True Positives: ', cm[1][1])\n",
    "    print('Total Positive (Actual): ', np.sum(cm[1]))\n",
    "    print('Accuracy: ', ((cm[1][1])+(cm[0][0]))/749)"
   ]
  },
  {
   "cell_type": "code",
   "execution_count": 79,
   "id": "9fa10004-e805-45aa-9f5e-1019e163b156",
   "metadata": {},
   "outputs": [
    {
     "name": "stdout",
     "output_type": "stream",
     "text": [
      "True Negatives:  376\n",
      "False Positives:  74\n",
      "False Negatives:  102\n",
      "True Positives:  197\n",
      "Total Positive (Actual):  299\n",
      "Accuracy:  0.7650200267022697\n"
     ]
    },
    {
     "data": {
      "image/png": "[encoded data removed]",
      "text/plain": [
       "<Figure size 360x360 with 2 Axes>"
      ]
     },
     "metadata": {},
     "output_type": "display_data"
    }
   ],
   "source": [
    "plot_cm(y_test, classifier1.predict(X_test))"
   ]
  },
  {
   "cell_type": "markdown",
   "id": "cdbe7915-aeaa-48b6-b77e-eb01814314df",
   "metadata": {},
   "source": [
    "### Random forests: using 8 features"
   ]
  },
  {
   "cell_type": "code",
   "execution_count": 80,
   "id": "ecfc6890-ce33-41b9-9a7c-aedf8793aed1",
   "metadata": {},
   "outputs": [
    {
     "data": {
      "text/plain": [
       "RandomForestClassifier(max_features=8, random_state=11)"
      ]
     },
     "execution_count": 80,
     "metadata": {},
     "output_type": "execute_result"
    }
   ],
   "source": [
    "classifier2 = RandomForestClassifier(max_features=8, random_state=11)\n",
    "classifier2.fit(X_train, y_train)"
   ]
  },
  {
   "cell_type": "code",
   "execution_count": 81,
   "id": "ffdba3d1-65a5-407f-be3c-1eaaa6a14560",
   "metadata": {},
   "outputs": [
    {
     "name": "stdout",
     "output_type": "stream",
     "text": [
      "True Negatives:  380\n",
      "False Positives:  70\n",
      "False Negatives:  99\n",
      "True Positives:  200\n",
      "Total Positive (Actual):  299\n",
      "Accuracy:  0.774365821094793\n"
     ]
    },
    {
     "data": {
      "image/png": "[encoded data removed]",
      "text/plain": [
       "<Figure size 360x360 with 2 Axes>"
      ]
     },
     "metadata": {},
     "output_type": "display_data"
    }
   ],
   "source": [
    "plot_cm(y_test, classifier2.predict(X_test))"
   ]
  },
  {
   "cell_type": "markdown",
   "id": "8634c2f6-f8f6-4da3-9bfb-306f1f973e36",
   "metadata": {},
   "source": [
    "### Boosting"
   ]
  },
  {
   "cell_type": "code",
   "execution_count": 82,
   "id": "92415c38-65af-48ad-b1f7-5e77a2d4173b",
   "metadata": {},
   "outputs": [
    {
     "data": {
      "text/plain": [
       "GradientBoostingClassifier(learning_rate=0.01, n_estimators=500, random_state=1)"
      ]
     },
     "execution_count": 82,
     "metadata": {},
     "output_type": "execute_result"
    }
   ],
   "source": [
    "classifier3 = GradientBoostingClassifier(n_estimators=500, learning_rate=0.01, random_state=1, max_depth=3)\n",
    "classifier3.fit(X_train, y_train)"
   ]
  },
  {
   "cell_type": "code",
   "execution_count": 83,
   "id": "bffd3f5e-6ee4-457b-8de2-a3e2f487e251",
   "metadata": {},
   "outputs": [
    {
     "name": "stdout",
     "output_type": "stream",
     "text": [
      "True Negatives:  388\n",
      "False Positives:  62\n",
      "False Negatives:  85\n",
      "True Positives:  214\n",
      "Total Positive (Actual):  299\n",
      "Accuracy:  0.8037383177570093\n"
     ]
    },
    {
     "data": {
      "image/png": "[encoded data removed]",
      "text/plain": [
       "<Figure size 360x360 with 2 Axes>"
      ]
     },
     "metadata": {},
     "output_type": "display_data"
    }
   ],
   "source": [
    "plot_cm(y_test, classifier3.predict(X_test))"
   ]
  },
  {
   "cell_type": "markdown",
   "id": "29c9b107-554e-41a5-95fb-b9e3e9afcd6c",
   "metadata": {},
   "source": [
    "### Single Tree Classifier"
   ]
  },
  {
   "cell_type": "code",
   "execution_count": 84,
   "id": "dcce7a20-a808-48a1-b7fc-d64ce5d942a0",
   "metadata": {},
   "outputs": [
    {
     "data": {
      "text/plain": [
       "DecisionTreeClassifier()"
      ]
     },
     "execution_count": 84,
     "metadata": {},
     "output_type": "execute_result"
    }
   ],
   "source": [
    "classifier4 = DecisionTreeClassifier()\n",
    "classifier4.fit(X_train, y_train)"
   ]
  },
  {
   "cell_type": "code",
   "execution_count": 85,
   "id": "05af9fd4-7eb4-48c1-b10e-a8586ff3f77a",
   "metadata": {},
   "outputs": [
    {
     "name": "stdout",
     "output_type": "stream",
     "text": [
      "True Negatives:  363\n",
      "False Positives:  87\n",
      "False Negatives:  103\n",
      "True Positives:  196\n",
      "Total Positive (Actual):  299\n",
      "Accuracy:  0.7463284379172229\n"
     ]
    },
    {
     "data": {
      "image/png": "[encoded data removed]",
      "text/plain": [
       "<Figure size 360x360 with 2 Axes>"
      ]
     },
     "metadata": {},
     "output_type": "display_data"
    }
   ],
   "source": [
    "plot_cm(y_test, classifier4.predict(X_test))"
   ]
  },
  {
   "cell_type": "markdown",
   "id": "a6489056-045c-49a9-959f-57e00e17daff",
   "metadata": {},
   "source": [
    "The order from best to worst of these 4 fitted models are:\n",
    "\n",
    "    1. Boosting has an accuracy of 0.8037383177570093.\n",
    "    2. Random Forest with 8 features has an accuracy of 0.774365821094793.\n",
    "    3. Bagging all 19 features with an accuracy of 0.7650200267022697.\n",
    "    4. Single Decision Tree with an accuracy of 0.7463284379172229."
   ]
  }
 ],
 "metadata": {
  "kernelspec": {
   "display_name": "Python 3 (ipykernel)",
   "language": "python",
   "name": "python3"
  },
  "language_info": {
   "codemirror_mode": {
    "name": "ipython",
    "version": 3
   },
   "file_extension": ".py",
   "mimetype": "text/x-python",
   "name": "python",
   "nbconvert_exporter": "python",
   "pygments_lexer": "ipython3",
   "version": "3.9.12"
  }
 },
 "nbformat": 4,
 "nbformat_minor": 5
}

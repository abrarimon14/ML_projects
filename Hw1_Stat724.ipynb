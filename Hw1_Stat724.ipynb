{
 "cells": [
  {
   "cell_type": "markdown",
   "id": "58088a1a-2cc2-4024-be7e-6ba23fc24eba",
   "metadata": {},
   "source": [
    "Abrar Imon"
   ]
  },
  {
   "cell_type": "code",
   "execution_count": 1,
   "id": "b43fe244-374c-43c3-bca3-b41ba8d2ac1c",
   "metadata": {},
   "outputs": [],
   "source": [
    "import pandas as pd\n",
    "import numpy as np\n",
    "import matplotlib.pyplot as plt\n",
    "from mpl_toolkits.mplot3d import axes3d\n",
    "import seaborn as sns\n",
    "\n",
    "from sklearn.preprocessing import scale\n",
    "import sklearn.linear_model as skl_lm\n",
    "from sklearn.metrics import mean_squared_error, r2_score\n",
    "\n",
    "import statsmodels.api as sm\n",
    "import statsmodels.formula.api as smf # more convenient"
   ]
  },
  {
   "cell_type": "code",
   "execution_count": 2,
   "id": "f27f87fd-be64-49c1-93b2-74c7d5f30ad4",
   "metadata": {},
   "outputs": [],
   "source": [
    "df = pd.read_csv(r\"C:\\Users\\shipa\\OneDrive\\Desktop\\STAT 724\\data\\Carseats.csv\")"
   ]
  },
  {
   "cell_type": "code",
   "execution_count": 23,
   "id": "053a3f68-dea6-4c51-bdfe-92da7d2975b5",
   "metadata": {},
   "outputs": [
    {
     "data": {
      "text/html": [
       "<div>\n",
       "<style scoped>\n",
       "    .dataframe tbody tr th:only-of-type {\n",
       "        vertical-align: middle;\n",
       "    }\n",
       "\n",
       "    .dataframe tbody tr th {\n",
       "        vertical-align: top;\n",
       "    }\n",
       "\n",
       "    .dataframe thead th {\n",
       "        text-align: right;\n",
       "    }\n",
       "</style>\n",
       "<table border=\"1\" class=\"dataframe\">\n",
       "  <thead>\n",
       "    <tr style=\"text-align: right;\">\n",
       "      <th></th>\n",
       "      <th>Sales</th>\n",
       "      <th>CompPrice</th>\n",
       "      <th>Income</th>\n",
       "      <th>Advertising</th>\n",
       "      <th>Population</th>\n",
       "      <th>Price</th>\n",
       "      <th>ShelveLoc</th>\n",
       "      <th>Age</th>\n",
       "      <th>Education</th>\n",
       "      <th>Urban</th>\n",
       "      <th>US</th>\n",
       "    </tr>\n",
       "  </thead>\n",
       "  <tbody>\n",
       "    <tr>\n",
       "      <th>0</th>\n",
       "      <td>9.50</td>\n",
       "      <td>138</td>\n",
       "      <td>73</td>\n",
       "      <td>11</td>\n",
       "      <td>276</td>\n",
       "      <td>120</td>\n",
       "      <td>Bad</td>\n",
       "      <td>42</td>\n",
       "      <td>17</td>\n",
       "      <td>Yes</td>\n",
       "      <td>Yes</td>\n",
       "    </tr>\n",
       "    <tr>\n",
       "      <th>1</th>\n",
       "      <td>11.22</td>\n",
       "      <td>111</td>\n",
       "      <td>48</td>\n",
       "      <td>16</td>\n",
       "      <td>260</td>\n",
       "      <td>83</td>\n",
       "      <td>Good</td>\n",
       "      <td>65</td>\n",
       "      <td>10</td>\n",
       "      <td>Yes</td>\n",
       "      <td>Yes</td>\n",
       "    </tr>\n",
       "    <tr>\n",
       "      <th>2</th>\n",
       "      <td>10.06</td>\n",
       "      <td>113</td>\n",
       "      <td>35</td>\n",
       "      <td>10</td>\n",
       "      <td>269</td>\n",
       "      <td>80</td>\n",
       "      <td>Medium</td>\n",
       "      <td>59</td>\n",
       "      <td>12</td>\n",
       "      <td>Yes</td>\n",
       "      <td>Yes</td>\n",
       "    </tr>\n",
       "    <tr>\n",
       "      <th>3</th>\n",
       "      <td>7.40</td>\n",
       "      <td>117</td>\n",
       "      <td>100</td>\n",
       "      <td>4</td>\n",
       "      <td>466</td>\n",
       "      <td>97</td>\n",
       "      <td>Medium</td>\n",
       "      <td>55</td>\n",
       "      <td>14</td>\n",
       "      <td>Yes</td>\n",
       "      <td>Yes</td>\n",
       "    </tr>\n",
       "    <tr>\n",
       "      <th>4</th>\n",
       "      <td>4.15</td>\n",
       "      <td>141</td>\n",
       "      <td>64</td>\n",
       "      <td>3</td>\n",
       "      <td>340</td>\n",
       "      <td>128</td>\n",
       "      <td>Bad</td>\n",
       "      <td>38</td>\n",
       "      <td>13</td>\n",
       "      <td>Yes</td>\n",
       "      <td>No</td>\n",
       "    </tr>\n",
       "  </tbody>\n",
       "</table>\n",
       "</div>"
      ],
      "text/plain": [
       "   Sales  CompPrice  Income  Advertising  Population  Price ShelveLoc  Age  \\\n",
       "0   9.50        138      73           11         276    120       Bad   42   \n",
       "1  11.22        111      48           16         260     83      Good   65   \n",
       "2  10.06        113      35           10         269     80    Medium   59   \n",
       "3   7.40        117     100            4         466     97    Medium   55   \n",
       "4   4.15        141      64            3         340    128       Bad   38   \n",
       "\n",
       "   Education Urban   US  \n",
       "0         17   Yes  Yes  \n",
       "1         10   Yes  Yes  \n",
       "2         12   Yes  Yes  \n",
       "3         14   Yes  Yes  \n",
       "4         13   Yes   No  "
      ]
     },
     "execution_count": 23,
     "metadata": {},
     "output_type": "execute_result"
    }
   ],
   "source": [
    "df.head()"
   ]
  },
  {
   "cell_type": "code",
   "execution_count": 3,
   "id": "9ed208e5-6a6f-41d4-aa71-5e07610a9d02",
   "metadata": {},
   "outputs": [],
   "source": [
    "df = df.drop(\"Unnamed: 0\", axis=1)"
   ]
  },
  {
   "cell_type": "code",
   "execution_count": 4,
   "id": "997d4c5a-ac4b-4d78-b04d-eaed4402de67",
   "metadata": {},
   "outputs": [],
   "source": [
    "X =df[[\"Price\", \"Urban\", \"US\"]]"
   ]
  },
  {
   "cell_type": "code",
   "execution_count": 5,
   "id": "4148c234-ed0f-465f-a0f6-ada37b6c5bc9",
   "metadata": {},
   "outputs": [],
   "source": [
    "y = df['Sales']"
   ]
  },
  {
   "cell_type": "code",
   "execution_count": 6,
   "id": "43060583-ff67-4f7a-8391-593404b15712",
   "metadata": {},
   "outputs": [],
   "source": [
    "from sklearn.preprocessing import LabelEncoder"
   ]
  },
  {
   "cell_type": "code",
   "execution_count": 7,
   "id": "fe5e0749-6b97-433d-80d3-3c7e49a3d692",
   "metadata": {},
   "outputs": [],
   "source": [
    "le = LabelEncoder()"
   ]
  },
  {
   "cell_type": "code",
   "execution_count": 8,
   "id": "f4baa4e6-c071-4fd0-b3f9-d8ac0681368d",
   "metadata": {},
   "outputs": [],
   "source": [
    "X = X.replace('Yes', 1)\n",
    "X = X.replace('No', 0)"
   ]
  },
  {
   "cell_type": "markdown",
   "id": "ce922aae-2c48-4848-8848-1f7af02953c8",
   "metadata": {},
   "source": [
    "<b>10.(a)</b>"
   ]
  },
  {
   "cell_type": "code",
   "execution_count": 9,
   "id": "f4da6e7b-e957-43ef-8a83-69da91757488",
   "metadata": {},
   "outputs": [],
   "source": [
    "regr = skl_lm.LinearRegression()"
   ]
  },
  {
   "cell_type": "code",
   "execution_count": 10,
   "id": "b9e7940a-cb52-45c6-a59f-2955ba063e13",
   "metadata": {},
   "outputs": [
    {
     "name": "stdout",
     "output_type": "stream",
     "text": [
      "[-0.05445885 -0.02191615  1.2005727 ]\n",
      "13.043468936764896\n"
     ]
    }
   ],
   "source": [
    "regr.fit(X,y)\n",
    "print(regr.coef_)\n",
    "print(regr.intercept_)"
   ]
  },
  {
   "cell_type": "markdown",
   "id": "02544401-811f-4f01-bdfe-3ed5b3bf4df0",
   "metadata": {},
   "source": [
    "<b>10.(b)</b>\n",
    "The first coefficient means that for every dollar the Price goes up, the Sales goes down by about 0.05445885.\n",
    "The second coefficient means that on average, being Urban makes the Sales about 0.02191615 lower than not being Urban.\n",
    "The third coefficient means that on average, being in US makes the Sales about 1.2005727 higher than not being in US."
   ]
  },
  {
   "cell_type": "markdown",
   "id": "98405069-5486-4532-8539-ddc2dfd39bb8",
   "metadata": {},
   "source": [
    "<b>10.(c)</b>\n",
    "$Sales_{i} \\approx 13.043468936764896 -0.05445885*Price_{i} -0.02191615*Urban_{i} + 1.2005727*US_{i}$ $\\newline$\n",
    "Note: Substitute 1 for Urban or US when they have a Yes value. Substitute 0 for Urban or US when they have a No value."
   ]
  },
  {
   "cell_type": "markdown",
   "id": "7a940853-24e7-4842-bdf6-deaa9de86ba4",
   "metadata": {},
   "source": [
    "**10.(d)**"
   ]
  },
  {
   "cell_type": "code",
   "execution_count": 11,
   "id": "ed15a8cd-6689-4bc8-ab78-a04f284c35cc",
   "metadata": {},
   "outputs": [
    {
     "name": "stdout",
     "output_type": "stream",
     "text": [
      "                            OLS Regression Results                            \n",
      "==============================================================================\n",
      "Dep. Variable:                  Sales   R-squared:                       0.239\n",
      "Model:                            OLS   Adj. R-squared:                  0.234\n",
      "Method:                 Least Squares   F-statistic:                     41.52\n",
      "Date:                Tue, 15 Nov 2022   Prob (F-statistic):           2.39e-23\n",
      "Time:                        09:03:34   Log-Likelihood:                -927.66\n",
      "No. Observations:                 400   AIC:                             1863.\n",
      "Df Residuals:                     396   BIC:                             1879.\n",
      "Df Model:                           3                                         \n",
      "Covariance Type:            nonrobust                                         \n",
      "==============================================================================\n",
      "                 coef    std err          t      P>|t|      [0.025      0.975]\n",
      "------------------------------------------------------------------------------\n",
      "const         13.0435      0.651     20.036      0.000      11.764      14.323\n",
      "Price         -0.0545      0.005    -10.389      0.000      -0.065      -0.044\n",
      "Urban         -0.0219      0.272     -0.081      0.936      -0.556       0.512\n",
      "US             1.2006      0.259      4.635      0.000       0.691       1.710\n",
      "==============================================================================\n",
      "Omnibus:                        0.676   Durbin-Watson:                   1.912\n",
      "Prob(Omnibus):                  0.713   Jarque-Bera (JB):                0.758\n",
      "Skew:                           0.093   Prob(JB):                        0.684\n",
      "Kurtosis:                       2.897   Cond. No.                         628.\n",
      "==============================================================================\n",
      "\n",
      "Notes:\n",
      "[1] Standard Errors assume that the covariance matrix of the errors is correctly specified.\n"
     ]
    }
   ],
   "source": [
    "X2 = sm.add_constant(X)\n",
    "est = sm.OLS(y, X2)\n",
    "est2 = est.fit()\n",
    "print(est2.summary())"
   ]
  },
  {
   "cell_type": "markdown",
   "id": "b8a8753d-6b08-4e22-b1af-7f3e1b2e91f8",
   "metadata": {},
   "source": [
    "Based on the p values, I can reject the null hypothesis for Price and US features."
   ]
  },
  {
   "cell_type": "markdown",
   "id": "210e7cbf-63da-4643-989d-f69c6b628c1b",
   "metadata": {},
   "source": [
    "**10.(e)**"
   ]
  },
  {
   "cell_type": "code",
   "execution_count": 12,
   "id": "a4cdd938-e5ac-4a01-83bf-6279a417faaf",
   "metadata": {},
   "outputs": [],
   "source": [
    "X3 = X[['Price', 'US']]"
   ]
  },
  {
   "cell_type": "code",
   "execution_count": 13,
   "id": "7eefcd97-2576-434b-8ca7-d16462aab705",
   "metadata": {},
   "outputs": [],
   "source": [
    "regr2 = skl_lm.LinearRegression()"
   ]
  },
  {
   "cell_type": "code",
   "execution_count": 14,
   "id": "1234fc82-1af7-42e1-96f8-77c52a7027e2",
   "metadata": {},
   "outputs": [
    {
     "name": "stdout",
     "output_type": "stream",
     "text": [
      "[-0.05447763  1.19964294]\n",
      "13.03079275461576\n"
     ]
    }
   ],
   "source": [
    "model_2 = regr2.fit(X3,y)\n",
    "print(regr2.coef_)\n",
    "print(regr2.intercept_)"
   ]
  },
  {
   "cell_type": "markdown",
   "id": "6e256949-7f0c-41be-bb9d-84fb2a62f058",
   "metadata": {},
   "source": [
    "**10.(f)**"
   ]
  },
  {
   "cell_type": "code",
   "execution_count": 15,
   "id": "9a84fb2a-b6eb-4619-9b9b-436f02166daf",
   "metadata": {},
   "outputs": [
    {
     "name": "stdout",
     "output_type": "stream",
     "text": [
      "                            OLS Regression Results                            \n",
      "==============================================================================\n",
      "Dep. Variable:                  Sales   R-squared:                       0.239\n",
      "Model:                            OLS   Adj. R-squared:                  0.235\n",
      "Method:                 Least Squares   F-statistic:                     62.43\n",
      "Date:                Tue, 15 Nov 2022   Prob (F-statistic):           2.66e-24\n",
      "Time:                        09:03:34   Log-Likelihood:                -927.66\n",
      "No. Observations:                 400   AIC:                             1861.\n",
      "Df Residuals:                     397   BIC:                             1873.\n",
      "Df Model:                           2                                         \n",
      "Covariance Type:            nonrobust                                         \n",
      "==============================================================================\n",
      "                 coef    std err          t      P>|t|      [0.025      0.975]\n",
      "------------------------------------------------------------------------------\n",
      "const         13.0308      0.631     20.652      0.000      11.790      14.271\n",
      "Price         -0.0545      0.005    -10.416      0.000      -0.065      -0.044\n",
      "US             1.1996      0.258      4.641      0.000       0.692       1.708\n",
      "==============================================================================\n",
      "Omnibus:                        0.666   Durbin-Watson:                   1.912\n",
      "Prob(Omnibus):                  0.717   Jarque-Bera (JB):                0.749\n",
      "Skew:                           0.092   Prob(JB):                        0.688\n",
      "Kurtosis:                       2.895   Cond. No.                         607.\n",
      "==============================================================================\n",
      "\n",
      "Notes:\n",
      "[1] Standard Errors assume that the covariance matrix of the errors is correctly specified.\n"
     ]
    }
   ],
   "source": [
    "X4 = sm.add_constant(X3)\n",
    "est3 = sm.OLS(y, X4)\n",
    "est4 = est3.fit()\n",
    "print(est4.summary())"
   ]
  },
  {
   "cell_type": "markdown",
   "id": "9846eeba-7b74-45ad-b879-34c93c13832e",
   "metadata": {},
   "source": [
    "According to the adjusted R squared and Prod(F-statistic), the model from part e fits better than the model from part a. This is because we got rid of a feature that did not provide much information about the Sales."
   ]
  },
  {
   "cell_type": "markdown",
   "id": "80dc48f4-ab0b-463b-9ad4-9c17e2d89e87",
   "metadata": {},
   "source": [
    "**10.(g)**"
   ]
  },
  {
   "cell_type": "code",
   "execution_count": 16,
   "id": "c1a779f3-4123-4848-9903-e169038ea3c8",
   "metadata": {},
   "outputs": [
    {
     "name": "stdout",
     "output_type": "stream",
     "text": [
      "[-0.0643, -0.044700000000000004, 0.69392, 1.7052800000000001]\n"
     ]
    }
   ],
   "source": [
    "print([-0.0545-(1.96*0.005),\n",
    "       -0.0545+(1.96*0.005),\n",
    "       1.1996-(1.96*0.258),\n",
    "       1.1996+(1.96*0.258)\n",
    "      ])"
   ]
  },
  {
   "cell_type": "markdown",
   "id": "02f78cf6-4445-4c58-9656-daeedaa0ffea",
   "metadata": {},
   "source": [
    "The 95% confidence interval for the coefficient of Price is (-0.0643, -0.0447).\n",
    "The 95% confidence interval for the coefficient of US is (0.69392, 1.70528)."
   ]
  },
  {
   "cell_type": "markdown",
   "id": "b9c7c9b9-f3d2-4f42-bc8f-4f9e69c903d4",
   "metadata": {},
   "source": [
    "**10.(h)**"
   ]
  },
  {
   "cell_type": "code",
   "execution_count": 17,
   "id": "47cdded1-b534-4b09-870a-543d29cd2217",
   "metadata": {},
   "outputs": [],
   "source": [
    "df_new = df[[\"Price\", \"US\", \"Sales\"]]"
   ]
  },
  {
   "cell_type": "code",
   "execution_count": 18,
   "id": "0317bed0-5e93-44d9-8a91-aa8f599bc283",
   "metadata": {},
   "outputs": [],
   "source": [
    "df_new = df_new.replace('Yes', 1)\n",
    "df_new = df_new.replace('No', 0)"
   ]
  },
  {
   "cell_type": "code",
   "execution_count": 19,
   "id": "24859c75-5452-4a9f-a676-4ca76065eac4",
   "metadata": {},
   "outputs": [],
   "source": [
    "noUS = df_new.loc[df_new['US'] == 0]"
   ]
  },
  {
   "cell_type": "code",
   "execution_count": 20,
   "id": "e857e9d8-1d09-4b65-ad77-d3959dce766e",
   "metadata": {},
   "outputs": [
    {
     "data": {
      "text/plain": [
       "[<matplotlib.lines.Line2D at 0x25e0a958eb0>]"
      ]
     },
     "execution_count": 20,
     "metadata": {},
     "output_type": "execute_result"
    },
    {
     "data": {
      "image/png": "[encoded data removed]",
      "text/plain": [
       "<Figure size 432x288 with 1 Axes>"
      ]
     },
     "metadata": {
      "needs_background": "light"
     },
     "output_type": "display_data"
    }
   ],
   "source": [
    "plt.plot(noUS['Price'], noUS['Sales'], 'o')\n",
    "plt.plot(noUS['Price'], 13.03079275461576-0.0643*noUS['Price'])\n",
    "plt.plot(noUS['Price'], 13.03079275461576-0.044700000000000004*noUS['Price'])"
   ]
  },
  {
   "cell_type": "code",
   "execution_count": 21,
   "id": "c033d2ea-953a-4cce-89a8-c34a514eed66",
   "metadata": {},
   "outputs": [],
   "source": [
    "yesUS = df_new.loc[df_new['US'] == 1]"
   ]
  },
  {
   "cell_type": "code",
   "execution_count": 22,
   "id": "ef8797af-c42f-4b83-a58a-5607430524ec",
   "metadata": {},
   "outputs": [
    {
     "data": {
      "text/plain": [
       "[<matplotlib.lines.Line2D at 0x25e0be90070>]"
      ]
     },
     "execution_count": 22,
     "metadata": {},
     "output_type": "execute_result"
    },
    {
     "data": {
      "image/png": "[encoded data removed]",
      "text/plain": [
       "<Figure size 432x288 with 1 Axes>"
      ]
     },
     "metadata": {
      "needs_background": "light"
     },
     "output_type": "display_data"
    }
   ],
   "source": [
    "plt.plot(yesUS['Price'], yesUS['Sales'], 'o')\n",
    "plt.plot(yesUS['Price'], 13.03079275461576-0.0643*yesUS['Price']+0.69392)\n",
    "plt.plot(yesUS['Price'], 13.03079275461576-0.044700000000000004*yesUS['Price']+1.70528)"
   ]
  },
  {
   "cell_type": "markdown",
   "id": "999fc4f6-39ad-4f95-9a43-c517c1107e8b",
   "metadata": {},
   "source": [
    "The two plots represent the two possibilities of US values. In both plots, many of the data points are points are outside of the 95% confidence intervals. So, there are many outliers. There are a few points, such as the two points at bottom right corners that could be high leverage points."
   ]
  }
 ],
 "metadata": {
  "kernelspec": {
   "display_name": "Python 3 (ipykernel)",
   "language": "python",
   "name": "python3"
  },
  "language_info": {
   "codemirror_mode": {
    "name": "ipython",
    "version": 3
   },
   "file_extension": ".py",
   "mimetype": "text/x-python",
   "name": "python",
   "nbconvert_exporter": "python",
   "pygments_lexer": "ipython3",
   "version": "3.9.12"
  }
 },
 "nbformat": 4,
 "nbformat_minor": 5
}

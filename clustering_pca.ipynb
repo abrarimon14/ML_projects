{
 "cells": [
  {
   "cell_type": "code",
   "execution_count": 1,
   "id": "01e8df7d-ec14-409a-91f3-7b11220ceb52",
   "metadata": {},
   "outputs": [],
   "source": [
    "# %load ../standard_import.txt\n",
    "import pandas as pd\n",
    "import numpy as np\n",
    "import matplotlib as mpl\n",
    "import matplotlib.pyplot as plt\n",
    "import seaborn as sns\n",
    "\n",
    "from sklearn.preprocessing import scale\n",
    "from sklearn.decomposition import PCA\n",
    "from sklearn.cluster import KMeans\n",
    "\n",
    "from scipy.cluster import hierarchy\n",
    "from scipy.cluster.hierarchy import dendrogram, linkage\n",
    "from scipy.spatial.distance import pdist, squareform\n",
    "\n",
    "%matplotlib inline\n",
    "plt.style.use('seaborn-white')"
   ]
  },
  {
   "cell_type": "markdown",
   "id": "777d0e39-bdca-40dd-adb1-81f50ccd0a5f",
   "metadata": {},
   "source": [
    "<b>(a)</b>"
   ]
  },
  {
   "cell_type": "code",
   "execution_count": 4,
   "id": "567673ee-f259-40fe-bb40-c2055be52b04",
   "metadata": {},
   "outputs": [],
   "source": [
    "df = pd.read_csv(r\"C:\\Users\\shipa\\OneDrive\\Desktop\\STAT 724\\Ch12Ex13.csv\", header=None)"
   ]
  },
  {
   "cell_type": "code",
   "execution_count": 5,
   "id": "14bc93c2-7bfc-464b-9dd7-709822705f00",
   "metadata": {},
   "outputs": [
    {
     "data": {
      "text/html": [
       "<div>\n",
       "<style scoped>\n",
       "    .dataframe tbody tr th:only-of-type {\n",
       "        vertical-align: middle;\n",
       "    }\n",
       "\n",
       "    .dataframe tbody tr th {\n",
       "        vertical-align: top;\n",
       "    }\n",
       "\n",
       "    .dataframe thead th {\n",
       "        text-align: right;\n",
       "    }\n",
       "</style>\n",
       "<table border=\"1\" class=\"dataframe\">\n",
       "  <thead>\n",
       "    <tr style=\"text-align: right;\">\n",
       "      <th></th>\n",
       "      <th>0</th>\n",
       "      <th>1</th>\n",
       "      <th>2</th>\n",
       "      <th>3</th>\n",
       "      <th>4</th>\n",
       "      <th>5</th>\n",
       "      <th>6</th>\n",
       "      <th>7</th>\n",
       "      <th>8</th>\n",
       "      <th>9</th>\n",
       "      <th>...</th>\n",
       "      <th>30</th>\n",
       "      <th>31</th>\n",
       "      <th>32</th>\n",
       "      <th>33</th>\n",
       "      <th>34</th>\n",
       "      <th>35</th>\n",
       "      <th>36</th>\n",
       "      <th>37</th>\n",
       "      <th>38</th>\n",
       "      <th>39</th>\n",
       "    </tr>\n",
       "  </thead>\n",
       "  <tbody>\n",
       "    <tr>\n",
       "      <th>0</th>\n",
       "      <td>-0.961933</td>\n",
       "      <td>0.441803</td>\n",
       "      <td>-0.975005</td>\n",
       "      <td>1.417504</td>\n",
       "      <td>0.818815</td>\n",
       "      <td>0.316294</td>\n",
       "      <td>-0.024967</td>\n",
       "      <td>-0.063966</td>\n",
       "      <td>0.031497</td>\n",
       "      <td>-0.350311</td>\n",
       "      <td>...</td>\n",
       "      <td>-0.509591</td>\n",
       "      <td>-0.216725</td>\n",
       "      <td>-0.055506</td>\n",
       "      <td>-0.484449</td>\n",
       "      <td>-0.521581</td>\n",
       "      <td>1.949135</td>\n",
       "      <td>1.324335</td>\n",
       "      <td>0.468147</td>\n",
       "      <td>1.061100</td>\n",
       "      <td>1.655970</td>\n",
       "    </tr>\n",
       "    <tr>\n",
       "      <th>1</th>\n",
       "      <td>-0.292526</td>\n",
       "      <td>-1.139267</td>\n",
       "      <td>0.195837</td>\n",
       "      <td>-1.281121</td>\n",
       "      <td>-0.251439</td>\n",
       "      <td>2.511997</td>\n",
       "      <td>-0.922206</td>\n",
       "      <td>0.059543</td>\n",
       "      <td>-1.409645</td>\n",
       "      <td>-0.656712</td>\n",
       "      <td>...</td>\n",
       "      <td>1.700708</td>\n",
       "      <td>0.007290</td>\n",
       "      <td>0.099062</td>\n",
       "      <td>0.563853</td>\n",
       "      <td>-0.257275</td>\n",
       "      <td>-0.581781</td>\n",
       "      <td>-0.169887</td>\n",
       "      <td>-0.542304</td>\n",
       "      <td>0.312939</td>\n",
       "      <td>-1.284377</td>\n",
       "    </tr>\n",
       "    <tr>\n",
       "      <th>2</th>\n",
       "      <td>0.258788</td>\n",
       "      <td>-0.972845</td>\n",
       "      <td>0.588486</td>\n",
       "      <td>-0.800258</td>\n",
       "      <td>-1.820398</td>\n",
       "      <td>-2.058924</td>\n",
       "      <td>-0.064764</td>\n",
       "      <td>1.592124</td>\n",
       "      <td>-0.173117</td>\n",
       "      <td>-0.121087</td>\n",
       "      <td>...</td>\n",
       "      <td>-0.615472</td>\n",
       "      <td>0.009999</td>\n",
       "      <td>0.945810</td>\n",
       "      <td>-0.318521</td>\n",
       "      <td>-0.117889</td>\n",
       "      <td>0.621366</td>\n",
       "      <td>-0.070764</td>\n",
       "      <td>0.401682</td>\n",
       "      <td>-0.016227</td>\n",
       "      <td>-0.526553</td>\n",
       "    </tr>\n",
       "    <tr>\n",
       "      <th>3</th>\n",
       "      <td>-1.152132</td>\n",
       "      <td>-2.213168</td>\n",
       "      <td>-0.861525</td>\n",
       "      <td>0.630925</td>\n",
       "      <td>0.951772</td>\n",
       "      <td>-1.165724</td>\n",
       "      <td>-0.391559</td>\n",
       "      <td>1.063619</td>\n",
       "      <td>-0.350009</td>\n",
       "      <td>-1.489058</td>\n",
       "      <td>...</td>\n",
       "      <td>-0.284277</td>\n",
       "      <td>0.198946</td>\n",
       "      <td>-0.091833</td>\n",
       "      <td>0.349628</td>\n",
       "      <td>-0.298910</td>\n",
       "      <td>1.513696</td>\n",
       "      <td>0.671185</td>\n",
       "      <td>0.010855</td>\n",
       "      <td>-1.043689</td>\n",
       "      <td>1.625275</td>\n",
       "    </tr>\n",
       "    <tr>\n",
       "      <th>4</th>\n",
       "      <td>0.195783</td>\n",
       "      <td>0.593306</td>\n",
       "      <td>0.282992</td>\n",
       "      <td>0.247147</td>\n",
       "      <td>1.978668</td>\n",
       "      <td>-0.871018</td>\n",
       "      <td>-0.989715</td>\n",
       "      <td>-1.032253</td>\n",
       "      <td>-1.109654</td>\n",
       "      <td>-0.385142</td>\n",
       "      <td>...</td>\n",
       "      <td>-0.692998</td>\n",
       "      <td>-0.845707</td>\n",
       "      <td>-0.177497</td>\n",
       "      <td>-0.166491</td>\n",
       "      <td>1.483155</td>\n",
       "      <td>-1.687946</td>\n",
       "      <td>-0.141430</td>\n",
       "      <td>0.200778</td>\n",
       "      <td>-0.675942</td>\n",
       "      <td>2.220611</td>\n",
       "    </tr>\n",
       "  </tbody>\n",
       "</table>\n",
       "<p>5 rows × 40 columns</p>\n",
       "</div>"
      ],
      "text/plain": [
       "         0         1         2         3         4         5         6   \\\n",
       "0 -0.961933  0.441803 -0.975005  1.417504  0.818815  0.316294 -0.024967   \n",
       "1 -0.292526 -1.139267  0.195837 -1.281121 -0.251439  2.511997 -0.922206   \n",
       "2  0.258788 -0.972845  0.588486 -0.800258 -1.820398 -2.058924 -0.064764   \n",
       "3 -1.152132 -2.213168 -0.861525  0.630925  0.951772 -1.165724 -0.391559   \n",
       "4  0.195783  0.593306  0.282992  0.247147  1.978668 -0.871018 -0.989715   \n",
       "\n",
       "         7         8         9   ...        30        31        32        33  \\\n",
       "0 -0.063966  0.031497 -0.350311  ... -0.509591 -0.216725 -0.055506 -0.484449   \n",
       "1  0.059543 -1.409645 -0.656712  ...  1.700708  0.007290  0.099062  0.563853   \n",
       "2  1.592124 -0.173117 -0.121087  ... -0.615472  0.009999  0.945810 -0.318521   \n",
       "3  1.063619 -0.350009 -1.489058  ... -0.284277  0.198946 -0.091833  0.349628   \n",
       "4 -1.032253 -1.109654 -0.385142  ... -0.692998 -0.845707 -0.177497 -0.166491   \n",
       "\n",
       "         34        35        36        37        38        39  \n",
       "0 -0.521581  1.949135  1.324335  0.468147  1.061100  1.655970  \n",
       "1 -0.257275 -0.581781 -0.169887 -0.542304  0.312939 -1.284377  \n",
       "2 -0.117889  0.621366 -0.070764  0.401682 -0.016227 -0.526553  \n",
       "3 -0.298910  1.513696  0.671185  0.010855 -1.043689  1.625275  \n",
       "4  1.483155 -1.687946 -0.141430  0.200778 -0.675942  2.220611  \n",
       "\n",
       "[5 rows x 40 columns]"
      ]
     },
     "execution_count": 5,
     "metadata": {},
     "output_type": "execute_result"
    }
   ],
   "source": [
    "df.head()"
   ]
  },
  {
   "cell_type": "code",
   "execution_count": 27,
   "id": "cace80ee-c953-4e48-84a8-da2827143065",
   "metadata": {},
   "outputs": [],
   "source": [
    "df = df.transpose()"
   ]
  },
  {
   "cell_type": "code",
   "execution_count": 28,
   "id": "4ca6dc71-bd19-4122-a3dc-2ed63ece4e78",
   "metadata": {},
   "outputs": [
    {
     "data": {
      "text/html": [
       "<div>\n",
       "<style scoped>\n",
       "    .dataframe tbody tr th:only-of-type {\n",
       "        vertical-align: middle;\n",
       "    }\n",
       "\n",
       "    .dataframe tbody tr th {\n",
       "        vertical-align: top;\n",
       "    }\n",
       "\n",
       "    .dataframe thead th {\n",
       "        text-align: right;\n",
       "    }\n",
       "</style>\n",
       "<table border=\"1\" class=\"dataframe\">\n",
       "  <thead>\n",
       "    <tr style=\"text-align: right;\">\n",
       "      <th></th>\n",
       "      <th>0</th>\n",
       "      <th>1</th>\n",
       "      <th>2</th>\n",
       "      <th>3</th>\n",
       "      <th>4</th>\n",
       "      <th>5</th>\n",
       "      <th>6</th>\n",
       "      <th>7</th>\n",
       "      <th>8</th>\n",
       "      <th>9</th>\n",
       "      <th>...</th>\n",
       "      <th>990</th>\n",
       "      <th>991</th>\n",
       "      <th>992</th>\n",
       "      <th>993</th>\n",
       "      <th>994</th>\n",
       "      <th>995</th>\n",
       "      <th>996</th>\n",
       "      <th>997</th>\n",
       "      <th>998</th>\n",
       "      <th>999</th>\n",
       "    </tr>\n",
       "  </thead>\n",
       "  <tbody>\n",
       "    <tr>\n",
       "      <th>0</th>\n",
       "      <td>-0.961933</td>\n",
       "      <td>-0.292526</td>\n",
       "      <td>0.258788</td>\n",
       "      <td>-1.152132</td>\n",
       "      <td>0.195783</td>\n",
       "      <td>0.030124</td>\n",
       "      <td>0.085418</td>\n",
       "      <td>1.116610</td>\n",
       "      <td>-1.218857</td>\n",
       "      <td>1.267369</td>\n",
       "      <td>...</td>\n",
       "      <td>1.325041</td>\n",
       "      <td>-0.116171</td>\n",
       "      <td>-1.470146</td>\n",
       "      <td>-0.379272</td>\n",
       "      <td>-1.465006</td>\n",
       "      <td>1.075148</td>\n",
       "      <td>-1.226125</td>\n",
       "      <td>-3.056328</td>\n",
       "      <td>1.450658</td>\n",
       "      <td>0.717977</td>\n",
       "    </tr>\n",
       "    <tr>\n",
       "      <th>1</th>\n",
       "      <td>0.441803</td>\n",
       "      <td>-1.139267</td>\n",
       "      <td>-0.972845</td>\n",
       "      <td>-2.213168</td>\n",
       "      <td>0.593306</td>\n",
       "      <td>-0.691014</td>\n",
       "      <td>-1.113054</td>\n",
       "      <td>1.341700</td>\n",
       "      <td>-1.277279</td>\n",
       "      <td>-0.918349</td>\n",
       "      <td>...</td>\n",
       "      <td>0.740838</td>\n",
       "      <td>-0.162392</td>\n",
       "      <td>-0.633375</td>\n",
       "      <td>-0.895521</td>\n",
       "      <td>2.034465</td>\n",
       "      <td>3.003267</td>\n",
       "      <td>-0.501702</td>\n",
       "      <td>0.449889</td>\n",
       "      <td>1.310348</td>\n",
       "      <td>0.763482</td>\n",
       "    </tr>\n",
       "    <tr>\n",
       "      <th>2</th>\n",
       "      <td>-0.975005</td>\n",
       "      <td>0.195837</td>\n",
       "      <td>0.588486</td>\n",
       "      <td>-0.861525</td>\n",
       "      <td>0.282992</td>\n",
       "      <td>-0.403426</td>\n",
       "      <td>-0.677969</td>\n",
       "      <td>0.103278</td>\n",
       "      <td>-0.558925</td>\n",
       "      <td>-1.253500</td>\n",
       "      <td>...</td>\n",
       "      <td>-0.435533</td>\n",
       "      <td>-0.235912</td>\n",
       "      <td>1.446660</td>\n",
       "      <td>-1.127459</td>\n",
       "      <td>0.440849</td>\n",
       "      <td>-0.123441</td>\n",
       "      <td>-0.717430</td>\n",
       "      <td>1.880362</td>\n",
       "      <td>0.383837</td>\n",
       "      <td>0.313576</td>\n",
       "    </tr>\n",
       "    <tr>\n",
       "      <th>3</th>\n",
       "      <td>1.417504</td>\n",
       "      <td>-1.281121</td>\n",
       "      <td>-0.800258</td>\n",
       "      <td>0.630925</td>\n",
       "      <td>0.247147</td>\n",
       "      <td>-0.729859</td>\n",
       "      <td>-0.562929</td>\n",
       "      <td>0.390963</td>\n",
       "      <td>-1.344493</td>\n",
       "      <td>-1.067114</td>\n",
       "      <td>...</td>\n",
       "      <td>-3.065529</td>\n",
       "      <td>1.597294</td>\n",
       "      <td>0.737478</td>\n",
       "      <td>-0.631248</td>\n",
       "      <td>-0.530442</td>\n",
       "      <td>-1.036740</td>\n",
       "      <td>-0.169113</td>\n",
       "      <td>-0.742841</td>\n",
       "      <td>-0.408860</td>\n",
       "      <td>-0.326473</td>\n",
       "    </tr>\n",
       "    <tr>\n",
       "      <th>4</th>\n",
       "      <td>0.818815</td>\n",
       "      <td>-0.251439</td>\n",
       "      <td>-1.820398</td>\n",
       "      <td>0.951772</td>\n",
       "      <td>1.978668</td>\n",
       "      <td>-0.364099</td>\n",
       "      <td>0.938194</td>\n",
       "      <td>-1.927491</td>\n",
       "      <td>1.159115</td>\n",
       "      <td>-0.240638</td>\n",
       "      <td>...</td>\n",
       "      <td>-2.378938</td>\n",
       "      <td>-0.086946</td>\n",
       "      <td>-0.122342</td>\n",
       "      <td>1.418029</td>\n",
       "      <td>1.075337</td>\n",
       "      <td>-1.270604</td>\n",
       "      <td>0.599530</td>\n",
       "      <td>2.238346</td>\n",
       "      <td>-0.471111</td>\n",
       "      <td>-0.158700</td>\n",
       "    </tr>\n",
       "  </tbody>\n",
       "</table>\n",
       "<p>5 rows × 1000 columns</p>\n",
       "</div>"
      ],
      "text/plain": [
       "        0         1         2         3         4         5         6    \\\n",
       "0 -0.961933 -0.292526  0.258788 -1.152132  0.195783  0.030124  0.085418   \n",
       "1  0.441803 -1.139267 -0.972845 -2.213168  0.593306 -0.691014 -1.113054   \n",
       "2 -0.975005  0.195837  0.588486 -0.861525  0.282992 -0.403426 -0.677969   \n",
       "3  1.417504 -1.281121 -0.800258  0.630925  0.247147 -0.729859 -0.562929   \n",
       "4  0.818815 -0.251439 -1.820398  0.951772  1.978668 -0.364099  0.938194   \n",
       "\n",
       "        7         8         9    ...       990       991       992       993  \\\n",
       "0  1.116610 -1.218857  1.267369  ...  1.325041 -0.116171 -1.470146 -0.379272   \n",
       "1  1.341700 -1.277279 -0.918349  ...  0.740838 -0.162392 -0.633375 -0.895521   \n",
       "2  0.103278 -0.558925 -1.253500  ... -0.435533 -0.235912  1.446660 -1.127459   \n",
       "3  0.390963 -1.344493 -1.067114  ... -3.065529  1.597294  0.737478 -0.631248   \n",
       "4 -1.927491  1.159115 -0.240638  ... -2.378938 -0.086946 -0.122342  1.418029   \n",
       "\n",
       "        994       995       996       997       998       999  \n",
       "0 -1.465006  1.075148 -1.226125 -3.056328  1.450658  0.717977  \n",
       "1  2.034465  3.003267 -0.501702  0.449889  1.310348  0.763482  \n",
       "2  0.440849 -0.123441 -0.717430  1.880362  0.383837  0.313576  \n",
       "3 -0.530442 -1.036740 -0.169113 -0.742841 -0.408860 -0.326473  \n",
       "4  1.075337 -1.270604  0.599530  2.238346 -0.471111 -0.158700  \n",
       "\n",
       "[5 rows x 1000 columns]"
      ]
     },
     "execution_count": 28,
     "metadata": {},
     "output_type": "execute_result"
    }
   ],
   "source": [
    "df.head()"
   ]
  },
  {
   "cell_type": "markdown",
   "id": "285d745b-b3f8-40fb-9135-65846b76c436",
   "metadata": {},
   "source": [
    "<b>(b)</b>"
   ]
  },
  {
   "cell_type": "code",
   "execution_count": 29,
   "id": "3caa7b74-11fe-4961-ac69-5fdf6001783e",
   "metadata": {},
   "outputs": [],
   "source": [
    "Z_lin = linkage(df, method=\"complete\", metric=\"correlation\")"
   ]
  },
  {
   "cell_type": "code",
   "execution_count": 38,
   "id": "d028f0f3-ccf1-4cb8-9df9-c3aef94a3bc2",
   "metadata": {},
   "outputs": [
    {
     "data": {
      "image/png": "[encoded data removed]",
      "text/plain": [
       "<Figure size 720x1440 with 1 Axes>"
      ]
     },
     "metadata": {},
     "output_type": "display_data"
    }
   ],
   "source": [
    "fig = plt.figure(figsize=(10, 20))\n",
    "dn = dendrogram(Z_lin, orientation='right',labels=list(df.index.values), leaf_font_size=10, color_threshold=0.8)\n",
    "plt.show()"
   ]
  },
  {
   "cell_type": "markdown",
   "id": "8f4fb5db-ff06-4e67-b08b-55f5c2814f4e",
   "metadata": {},
   "source": [
    "The samples are seperated into the two groups. The blue side contains all of the healthy patients, because the values corresponding to the blue side are all less than 20. The orange side has all values greater than or equal to 20, meaning the orange cluster is the cluster for the unhealthy patients."
   ]
  },
  {
   "cell_type": "code",
   "execution_count": 42,
   "id": "b2ac2c8d-e18f-4715-9679-5ddcf103375a",
   "metadata": {},
   "outputs": [
    {
     "data": {
      "image/png": "[encoded data removed]",
      "text/plain": [
       "<Figure size 1440x1440 with 3 Axes>"
      ]
     },
     "metadata": {},
     "output_type": "display_data"
    }
   ],
   "source": [
    "fig, (ax1,ax2,ax3) = plt.subplots(1,3, figsize=(20,20))\n",
    "\n",
    "for lnk, cluster, ax in zip([linkage(df, method=\"complete\", metric=\"correlation\"), linkage(df, method=\"average\", metric=\"correlation\"), linkage(df, method=\"single\", metric=\"correlation\")],\n",
    "                                ['c1','c2','c3'],\n",
    "                                [ax1,ax2,ax3]):\n",
    "    cluster = hierarchy.dendrogram(lnk, labels=list(df.index.values), orientation='right', color_threshold=0.8, leaf_font_size=10, ax=ax)\n",
    "\n",
    "ax1.set_title('Complete Linkage')\n",
    "ax2.set_title('Average Linkage')\n",
    "ax3.set_title('Single Linkage');"
   ]
  },
  {
   "cell_type": "markdown",
   "id": "7b6c67f8-49dd-4307-9263-641ea3ad62a9",
   "metadata": {},
   "source": [
    "The complete and single linkage methods properly grouped the two types of samples eventhough they do have different shapes. The average linkage method managed to group all the unhealthy samples together. However, this method created two different clusters for all of the healthy patients."
   ]
  },
  {
   "cell_type": "markdown",
   "id": "4d776f40-6493-4faf-b54d-3fca00331a99",
   "metadata": {},
   "source": [
    "<b>(c)</b>"
   ]
  },
  {
   "cell_type": "markdown",
   "id": "d71f528e-a8cf-41a8-b5cf-741dea76fe5b",
   "metadata": {},
   "source": [
    "To answer this, we will first seperate out the healthy patients from the unhealthy once. Then, we will apply pca to both groups to see along which genes, there are the largest variance. These will be the genes that contribute most to the first PCA."
   ]
  },
  {
   "cell_type": "code",
   "execution_count": 49,
   "id": "bf90de92-0b6b-4d3e-b78b-37b056e9be3a",
   "metadata": {},
   "outputs": [],
   "source": [
    "healthy = df.iloc[:20,]\n",
    "unhealthy = df.iloc[20:,]\n",
    "# healthy.head()"
   ]
  },
  {
   "cell_type": "code",
   "execution_count": 76,
   "id": "8d63312e-51ef-48d1-b4a0-37ae8eef13e7",
   "metadata": {},
   "outputs": [],
   "source": [
    "from sklearn import preprocessing\n",
    "healthy_scaled = pd.DataFrame(preprocessing.scale(healthy),columns = df.columns)\n",
    "unhealthy_scaled = pd.DataFrame(preprocessing.scale(unhealthy),columns = df.columns)"
   ]
  },
  {
   "cell_type": "code",
   "execution_count": 58,
   "id": "cd64e33f-837d-4ea4-a50f-ab6f9535785c",
   "metadata": {},
   "outputs": [
    {
     "data": {
      "text/plain": [
       "array([[ -5.6046345 ],\n",
       "       [ -3.43075238],\n",
       "       [  0.45106707],\n",
       "       [-12.93245617],\n",
       "       [ 14.90433793],\n",
       "       [  3.75252188],\n",
       "       [  3.58526106],\n",
       "       [  1.59639942],\n",
       "       [ -3.75778581],\n",
       "       [  1.63934383],\n",
       "       [-12.30926522],\n",
       "       [  0.02439145],\n",
       "       [  0.41783881],\n",
       "       [  4.72709769],\n",
       "       [ -4.12933046],\n",
       "       [ -7.47582202],\n",
       "       [ 18.93338123],\n",
       "       [  8.68677007],\n",
       "       [-11.73173809],\n",
       "       [  2.65337422]])"
      ]
     },
     "execution_count": 58,
     "metadata": {},
     "output_type": "execute_result"
    }
   ],
   "source": [
    "pca = PCA(n_components=1)\n",
    "pca.fit_transform(healthy_scaled)"
   ]
  },
  {
   "cell_type": "code",
   "execution_count": 83,
   "id": "3dcbff89-31c8-4854-b2fa-844b85d7a1a7",
   "metadata": {},
   "outputs": [],
   "source": [
    "max_comp = 0\n",
    "for i in range(1000):\n",
    "    if abs(pd.DataFrame(pca.components_,columns=healthy_scaled.columns,index = ['PC-1'])[i][0]) > max_comp:\n",
    "        max_comp = abs(pd.DataFrame(pca.components_,columns=healthy_scaled.columns,index = ['PC-1'])[i][0])\n",
    "        max_ind = i"
   ]
  },
  {
   "cell_type": "code",
   "execution_count": 84,
   "id": "01752846-baec-475b-829d-e5bdfd4b0b4b",
   "metadata": {},
   "outputs": [],
   "source": [
    "pca2 = PCA(n_components=1)\n",
    "pca2.fit_transform(unhealthy_scaled)\n",
    "max_comp2 = 0\n",
    "for i in range(1000):\n",
    "    if abs(pd.DataFrame(pca2.components_,columns=unhealthy_scaled.columns,index = ['PC-1'])[i][0]) > max_comp2:\n",
    "        max_comp2 = abs(pd.DataFrame(pca.components_,columns=unhealthy_scaled.columns,index = ['PC-1'])[i][0])\n",
    "        max_ind2 = i"
   ]
  },
  {
   "cell_type": "code",
   "execution_count": 85,
   "id": "d3e2e093-bf3b-4422-80a2-dad50649e6f6",
   "metadata": {},
   "outputs": [
    {
     "name": "stdout",
     "output_type": "stream",
     "text": [
      "0.08978784492362364 163\n"
     ]
    }
   ],
   "source": [
    "print(max_comp, max_ind)"
   ]
  },
  {
   "cell_type": "code",
   "execution_count": 86,
   "id": "540d5622-725c-47e5-957b-aa6f583e1464",
   "metadata": {},
   "outputs": [
    {
     "name": "stdout",
     "output_type": "stream",
     "text": [
      "0.07430184639434277 796\n"
     ]
    }
   ],
   "source": [
    "print(max_comp2, max_ind2)"
   ]
  },
  {
   "cell_type": "markdown",
   "id": "24d1fc05-2766-418e-9ee9-6f9e45a5fc25",
   "metadata": {},
   "source": [
    "So for the healthy patients, the index corresponding to the gene that contributes most to PC-1 is 163. For the unhealthy patients, it is 796."
   ]
  }
 ],
 "metadata": {
  "kernelspec": {
   "display_name": "Python 3 (ipykernel)",
   "language": "python",
   "name": "python3"
  },
  "language_info": {
   "codemirror_mode": {
    "name": "ipython",
    "version": 3
   },
   "file_extension": ".py",
   "mimetype": "text/x-python",
   "name": "python",
   "nbconvert_exporter": "python",
   "pygments_lexer": "ipython3",
   "version": "3.9.12"
  }
 },
 "nbformat": 4,
 "nbformat_minor": 5
}

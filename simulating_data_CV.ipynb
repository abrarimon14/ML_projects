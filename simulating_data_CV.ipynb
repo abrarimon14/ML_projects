{
 "cells": [
  {
   "cell_type": "code",
   "execution_count": 53,
   "id": "9483ec1f-2799-4eea-885f-c0c24de37262",
   "metadata": {},
   "outputs": [],
   "source": [
    "# %load ../standard_import.txt`\n",
    "import pandas as pd\n",
    "import numpy as np\n",
    "import matplotlib.pyplot as plt\n",
    "import seaborn as sns\n",
    "\n",
    "# conda install -c conda-forge glmnet\n",
    "# import glmnet as gln\n",
    "\n",
    "from sklearn.preprocessing import scale \n",
    "from sklearn import model_selection\n",
    "\n",
    "from sklearn.linear_model import LinearRegression, Ridge, RidgeCV, Lasso, LassoCV\n",
    "\n",
    "#from sklearn.decomposition import PCA\n",
    "#rom sklearn.cross_decomposition import PLSRegression\n",
    "from sklearn.model_selection import train_test_split, KFold, cross_val_score\n",
    "from sklearn.metrics import mean_squared_error\n",
    "\n",
    "import sklearn.linear_model as skl_lm\n",
    "from sklearn.metrics import mean_squared_error\n",
    "from sklearn.model_selection import  LeaveOneOut, KFold, cross_val_score\n",
    "\n",
    "from sklearn.preprocessing import PolynomialFeatures\n",
    "\n",
    "\n",
    "%matplotlib inline\n",
    "plt.style.use('seaborn-white')"
   ]
  },
  {
   "cell_type": "markdown",
   "id": "add9b8e0-a66e-46cb-a78b-7b55256f648c",
   "metadata": {},
   "source": [
    "<b>(a)</b>"
   ]
  },
  {
   "cell_type": "code",
   "execution_count": 12,
   "id": "7725a86a-647a-4dbf-8607-2e105730d853",
   "metadata": {},
   "outputs": [],
   "source": [
    "np.random.seed(0)\n",
    "x = np.random.normal(size=100)\n",
    "y= x - 2*(x**2)+np.random.normal(size=100)"
   ]
  },
  {
   "cell_type": "markdown",
   "id": "17992b19-2933-42fd-b1a4-5e195e4ce719",
   "metadata": {},
   "source": [
    "In this dataset, and n is 100 and p is 1. The equation of this is $Y = X - 2*X^{2} + \\epsilon $."
   ]
  },
  {
   "cell_type": "markdown",
   "id": "a066729f-9949-4159-975d-8dab2c3a58a4",
   "metadata": {},
   "source": [
    "<b>(b)</b>"
   ]
  },
  {
   "cell_type": "code",
   "execution_count": 16,
   "id": "a93ebfeb-16b8-4f12-b120-983595f9eecd",
   "metadata": {},
   "outputs": [],
   "source": [
    "import matplotlib.pyplot as plt\n",
    "plt.rcParams[\"figure.figsize\"] = (8,5)"
   ]
  },
  {
   "cell_type": "code",
   "execution_count": 18,
   "id": "e970ea48-59a0-4638-b68c-5a349cb8a851",
   "metadata": {},
   "outputs": [
    {
     "data": {
      "text/plain": [
       "Text(0, 0.5, 'y')"
      ]
     },
     "execution_count": 18,
     "metadata": {},
     "output_type": "execute_result"
    },
    {
     "data": {
      "image/png": "[encoded data removed]",
      "text/plain": [
       "<Figure size 576x360 with 1 Axes>"
      ]
     },
     "metadata": {},
     "output_type": "display_data"
    }
   ],
   "source": [
    "plt.scatter(x,y, s=12)\n",
    "plt.xlabel('x') \n",
    "plt.ylabel('y')"
   ]
  },
  {
   "cell_type": "markdown",
   "id": "db688634-cf46-4cb7-9632-4c047e2c03d6",
   "metadata": {},
   "source": [
    "This looks quadratic and concave down. There are more points closer to x=0 than there are farther away from x=0."
   ]
  },
  {
   "cell_type": "markdown",
   "id": "3f81daf7-5a3b-4fed-830a-652125109b1a",
   "metadata": {},
   "source": [
    "<b>(c)</b>"
   ]
  },
  {
   "cell_type": "code",
   "execution_count": 14,
   "id": "05add373-e252-4f3c-86be-86aa1ddb265d",
   "metadata": {},
   "outputs": [],
   "source": [
    "np.random.seed(2)\n",
    "xc = np.random.normal(size=100)\n",
    "yc= xc - 2*(xc**2)+np.random.normal(size=100)"
   ]
  },
  {
   "cell_type": "code",
   "execution_count": 97,
   "id": "50d96e64-8275-4e8b-aae9-54c09fd1eaa3",
   "metadata": {},
   "outputs": [],
   "source": [
    "df = pd.DataFrame(list(zip(xc, yc)),\n",
    "               columns =['X', 'Y'])"
   ]
  },
  {
   "cell_type": "code",
   "execution_count": 98,
   "id": "8c43fb43-8df8-4a28-a2a3-c1c1a89c8b67",
   "metadata": {},
   "outputs": [
    {
     "data": {
      "text/plain": [
       "[-11.610208269693626,\n",
       " -1.2652839413336212,\n",
       " -1.2820418215169622,\n",
       " -1.3165915804276818]"
      ]
     },
     "execution_count": 98,
     "metadata": {},
     "output_type": "execute_result"
    }
   ],
   "source": [
    "p_order = np.arange(1,5)\n",
    "\n",
    "regr = skl_lm.LinearRegression()\n",
    "loo = LeaveOneOut()\n",
    "loo.get_n_splits(df)\n",
    "scores = list()\n",
    "\n",
    "for i in p_order:\n",
    "    poly = PolynomialFeatures(i)\n",
    "    X_poly = poly.fit_transform(df.X.values.reshape(-1,1))\n",
    "    score = cross_val_score(regr, X_poly, df.Y, cv=loo, scoring='neg_mean_squared_error').mean()\n",
    "    scores.append(score)\n",
    "scores"
   ]
  },
  {
   "cell_type": "markdown",
   "id": "ccc4990d-8eca-4e51-bee3-6cc8cbddd482",
   "metadata": {},
   "source": [
    "The negative mean squred error for degree 1, 2 ,3 4, polynomial fits are about -11.6102, -1.2653, -1.2820, -1.3166, respectively."
   ]
  },
  {
   "cell_type": "markdown",
   "id": "bc62e40b-7fd9-4485-a48d-0e165c02de8e",
   "metadata": {},
   "source": [
    "<b>(d)</b>"
   ]
  },
  {
   "cell_type": "code",
   "execution_count": 113,
   "id": "15c13955-0bbd-4f9d-91ca-b40cc8165851",
   "metadata": {},
   "outputs": [],
   "source": [
    "np.random.seed(10)\n",
    "xd = np.random.normal(size=100)\n",
    "yd= xd - 2*(xd**2)+np.random.normal(size=100)"
   ]
  },
  {
   "cell_type": "code",
   "execution_count": 114,
   "id": "9cecb76d-c6b4-4ecb-aae4-50188e57eac6",
   "metadata": {},
   "outputs": [
    {
     "data": {
      "text/plain": [
       "[-9.429508728455424,\n",
       " -1.0376998969927405,\n",
       " -1.0710664600733866,\n",
       " -1.0925510799150586]"
      ]
     },
     "execution_count": 114,
     "metadata": {},
     "output_type": "execute_result"
    }
   ],
   "source": [
    "df2 = pd.DataFrame(list(zip(xd, yd)),\n",
    "               columns =['X', 'Y'])\n",
    "\n",
    "#p_order = np.arange(1,5)\n",
    "\n",
    "regr = skl_lm.LinearRegression()\n",
    "loo = LeaveOneOut()\n",
    "loo.get_n_splits(df2)\n",
    "scores = list()\n",
    "\n",
    "for i in p_order:\n",
    "    poly = PolynomialFeatures(i)\n",
    "    X_poly = poly.fit_transform(df2.X.values.reshape(-1,1))\n",
    "    score = cross_val_score(regr, X_poly, df2.Y, cv=loo, scoring='neg_mean_squared_error').mean()\n",
    "    scores.append(score)\n",
    "scores"
   ]
  },
  {
   "cell_type": "markdown",
   "id": "a8cf794a-1594-44ba-93a2-dd4bdd11db15",
   "metadata": {},
   "source": [
    "The errors are different, but the errors of the different degrees are in the same order. For example, the 2nd degree polynomial gives the highest negative mean squred error, which makes it the best model in both simulations. The differences in each value is a result of the fact that we used a different set of randomly generated numbers."
   ]
  },
  {
   "cell_type": "markdown",
   "id": "4b320c7d-441d-4121-8914-681219622048",
   "metadata": {},
   "source": [
    "<b>(e)</b>"
   ]
  },
  {
   "cell_type": "markdown",
   "id": "4892c061-8d57-4bd7-9a0d-ad4dd4c8cc03",
   "metadata": {},
   "source": [
    "The 2nd degree polynomial model had the smallest LOOCV positive mean squared error. This makes sense, because the values for Y were defined as a 2nd degree polynomial transformation of X. "
   ]
  },
  {
   "cell_type": "markdown",
   "id": "4e792041-754c-4433-a84d-cdb28229f57e",
   "metadata": {},
   "source": [
    "<b>(f)</b>"
   ]
  },
  {
   "cell_type": "code",
   "execution_count": null,
   "id": "324b78c1-2782-493a-a3a9-531e06a89bf6",
   "metadata": {},
   "outputs": [],
   "source": [
    "import statsmodels.api as sm"
   ]
  },
  {
   "cell_type": "code",
   "execution_count": 132,
   "id": "4ebfbc98-7f0e-4ba0-86ba-1444e7dbfe26",
   "metadata": {},
   "outputs": [
    {
     "name": "stdout",
     "output_type": "stream",
     "text": [
      "                            OLS Regression Results                            \n",
      "==============================================================================\n",
      "Dep. Variable:                      Y   R-squared:                       0.054\n",
      "Model:                            OLS   Adj. R-squared:                  0.044\n",
      "Method:                 Least Squares   F-statistic:                     5.566\n",
      "Date:                Sat, 29 Oct 2022   Prob (F-statistic):             0.0203\n",
      "Time:                        15:54:04   Log-Likelihood:                -249.42\n",
      "No. Observations:                 100   AIC:                             502.8\n",
      "Df Residuals:                      98   BIC:                             508.0\n",
      "Df Model:                           1                                         \n",
      "Covariance Type:            nonrobust                                         \n",
      "==============================================================================\n",
      "                 coef    std err          t      P>|t|      [0.025      0.975]\n",
      "------------------------------------------------------------------------------\n",
      "const         -1.7917      0.297     -6.032      0.000      -2.381      -1.202\n",
      "x1             0.7223      0.306      2.359      0.020       0.115       1.330\n",
      "==============================================================================\n",
      "Omnibus:                       35.964   Durbin-Watson:                   1.862\n",
      "Prob(Omnibus):                  0.000   Jarque-Bera (JB):               60.438\n",
      "Skew:                          -1.603   Prob(JB):                     7.52e-14\n",
      "Kurtosis:                       5.057   Cond. No.                         1.09\n",
      "==============================================================================\n",
      "\n",
      "Notes:\n",
      "[1] Standard Errors assume that the covariance matrix of the errors is correctly specified.\n"
     ]
    }
   ],
   "source": [
    "poly = PolynomialFeatures(1)\n",
    "X_poly = poly.fit_transform(df2.X.values.reshape(-1,1))\n",
    "est = sm.OLS(df2.Y, X_poly)\n",
    "est2 = est.fit()\n",
    "print(est2.summary())"
   ]
  },
  {
   "cell_type": "code",
   "execution_count": 135,
   "id": "43b918d4-d32c-4dba-b2a4-e3a94f1f0d53",
   "metadata": {},
   "outputs": [
    {
     "name": "stdout",
     "output_type": "stream",
     "text": [
      "                            OLS Regression Results                            \n",
      "==============================================================================\n",
      "Dep. Variable:                      Y   R-squared:                       0.894\n",
      "Model:                            OLS   Adj. R-squared:                  0.891\n",
      "Method:                 Least Squares   F-statistic:                     407.4\n",
      "Date:                Sat, 29 Oct 2022   Prob (F-statistic):           6.35e-48\n",
      "Time:                        15:57:29   Log-Likelihood:                -140.14\n",
      "No. Observations:                 100   AIC:                             286.3\n",
      "Df Residuals:                      97   BIC:                             294.1\n",
      "Df Model:                           2                                         \n",
      "Covariance Type:            nonrobust                                         \n",
      "==============================================================================\n",
      "                 coef    std err          t      P>|t|      [0.025      0.975]\n",
      "------------------------------------------------------------------------------\n",
      "const          0.0877      0.121      0.725      0.470      -0.152       0.328\n",
      "x1             1.0707      0.104     10.302      0.000       0.864       1.277\n",
      "x2            -2.0256      0.073    -27.673      0.000      -2.171      -1.880\n",
      "==============================================================================\n",
      "Omnibus:                        1.379   Durbin-Watson:                   1.835\n",
      "Prob(Omnibus):                  0.502   Jarque-Bera (JB):                0.850\n",
      "Skew:                          -0.115   Prob(JB):                        0.654\n",
      "Kurtosis:                       3.389   Cond. No.                         2.33\n",
      "==============================================================================\n",
      "\n",
      "Notes:\n",
      "[1] Standard Errors assume that the covariance matrix of the errors is correctly specified.\n"
     ]
    }
   ],
   "source": [
    "poly = PolynomialFeatures(2)\n",
    "X_poly = poly.fit_transform(df2.X.values.reshape(-1,1))\n",
    "est = sm.OLS(df2.Y, X_poly)\n",
    "est2 = est.fit()\n",
    "print(est2.summary())"
   ]
  },
  {
   "cell_type": "code",
   "execution_count": 136,
   "id": "8c9ca286-9b59-46a8-b175-3b84645df782",
   "metadata": {},
   "outputs": [
    {
     "name": "stdout",
     "output_type": "stream",
     "text": [
      "                            OLS Regression Results                            \n",
      "==============================================================================\n",
      "Dep. Variable:                      Y   R-squared:                       0.894\n",
      "Model:                            OLS   Adj. R-squared:                  0.890\n",
      "Method:                 Least Squares   F-statistic:                     268.9\n",
      "Date:                Sat, 29 Oct 2022   Prob (F-statistic):           1.44e-46\n",
      "Time:                        15:57:43   Log-Likelihood:                -140.13\n",
      "No. Observations:                 100   AIC:                             288.3\n",
      "Df Residuals:                      96   BIC:                             298.7\n",
      "Df Model:                           3                                         \n",
      "Covariance Type:            nonrobust                                         \n",
      "==============================================================================\n",
      "                 coef    std err          t      P>|t|      [0.025      0.975]\n",
      "------------------------------------------------------------------------------\n",
      "const          0.0907      0.123      0.735      0.464      -0.154       0.336\n",
      "x1             1.0468      0.198      5.294      0.000       0.654       1.439\n",
      "x2            -2.0289      0.077    -26.320      0.000      -2.182      -1.876\n",
      "x3             0.0083      0.058      0.142      0.887      -0.108       0.124\n",
      "==============================================================================\n",
      "Omnibus:                        1.400   Durbin-Watson:                   1.831\n",
      "Prob(Omnibus):                  0.497   Jarque-Bera (JB):                0.868\n",
      "Skew:                          -0.130   Prob(JB):                        0.648\n",
      "Kurtosis:                       3.375   Cond. No.                         7.22\n",
      "==============================================================================\n",
      "\n",
      "Notes:\n",
      "[1] Standard Errors assume that the covariance matrix of the errors is correctly specified.\n"
     ]
    }
   ],
   "source": [
    "poly = PolynomialFeatures(3)\n",
    "X_poly = poly.fit_transform(df2.X.values.reshape(-1,1))\n",
    "est = sm.OLS(df2.Y, X_poly)\n",
    "est2 = est.fit()\n",
    "print(est2.summary())"
   ]
  },
  {
   "cell_type": "code",
   "execution_count": 137,
   "id": "f7099fe9-600c-48ac-ae83-b3c26a19c2da",
   "metadata": {},
   "outputs": [
    {
     "name": "stdout",
     "output_type": "stream",
     "text": [
      "                            OLS Regression Results                            \n",
      "==============================================================================\n",
      "Dep. Variable:                      Y   R-squared:                       0.894\n",
      "Model:                            OLS   Adj. R-squared:                  0.889\n",
      "Method:                 Least Squares   F-statistic:                     200.0\n",
      "Date:                Sat, 29 Oct 2022   Prob (F-statistic):           2.35e-45\n",
      "Time:                        15:57:50   Log-Likelihood:                -140.04\n",
      "No. Observations:                 100   AIC:                             290.1\n",
      "Df Residuals:                      95   BIC:                             303.1\n",
      "Df Model:                           4                                         \n",
      "Covariance Type:            nonrobust                                         \n",
      "==============================================================================\n",
      "                 coef    std err          t      P>|t|      [0.025      0.975]\n",
      "------------------------------------------------------------------------------\n",
      "const          0.1212      0.144      0.845      0.400      -0.164       0.406\n",
      "x1             1.0844      0.218      4.981      0.000       0.652       1.517\n",
      "x2            -2.1270      0.245     -8.669      0.000      -2.614      -1.640\n",
      "x3            -0.0087      0.071     -0.122      0.903      -0.150       0.133\n",
      "x4             0.0227      0.054      0.421      0.675      -0.084       0.130\n",
      "==============================================================================\n",
      "Omnibus:                        1.481   Durbin-Watson:                   1.840\n",
      "Prob(Omnibus):                  0.477   Jarque-Bera (JB):                0.943\n",
      "Skew:                          -0.128   Prob(JB):                        0.624\n",
      "Kurtosis:                       3.401   Cond. No.                         22.1\n",
      "==============================================================================\n",
      "\n",
      "Notes:\n",
      "[1] Standard Errors assume that the covariance matrix of the errors is correctly specified.\n"
     ]
    }
   ],
   "source": [
    "poly = PolynomialFeatures(4)\n",
    "X_poly = poly.fit_transform(df2.X.values.reshape(-1,1))\n",
    "est = sm.OLS(df2.Y, X_poly)\n",
    "est2 = est.fit()\n",
    "print(est2.summary())"
   ]
  },
  {
   "cell_type": "markdown",
   "id": "613e092d-2dd6-4fb7-8dfb-1b047d75475d",
   "metadata": {},
   "source": [
    "The coefficients that are significant in the models, are the ones for the $X$ and $X^{2}$ terms. This makes sense since in the definition of $Y$, we had an $X$ term and an $X^{2}$ term. These results agree with the results from the LOOCV results in that the second degree polynomial model fits our data the best."
   ]
  }
 ],
 "metadata": {
  "kernelspec": {
   "display_name": "Python 3 (ipykernel)",
   "language": "python",
   "name": "python3"
  },
  "language_info": {
   "codemirror_mode": {
    "name": "ipython",
    "version": 3
   },
   "file_extension": ".py",
   "mimetype": "text/x-python",
   "name": "python",
   "nbconvert_exporter": "python",
   "pygments_lexer": "ipython3",
   "version": "3.9.12"
  }
 },
 "nbformat": 4,
 "nbformat_minor": 5
}
